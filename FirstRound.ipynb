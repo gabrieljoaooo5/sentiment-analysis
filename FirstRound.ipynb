{
 "cells": [
  {
   "cell_type": "markdown",
   "metadata": {},
   "source": [
    "# Imports"
   ]
  },
  {
   "cell_type": "code",
   "execution_count": 127,
   "metadata": {},
   "outputs": [],
   "source": [
    "from ibm_watson import NaturalLanguageUnderstandingV1\n",
    "from ibm_cloud_sdk_core.authenticators import IAMAuthenticator\n",
    "from ibm_watson.natural_language_understanding_v1 import Features, SentimentOptions\n",
    "import json\n",
    "import pandas as pd\n",
    "import datetime\n",
    "import pathlib\n",
    "import time\n",
    "import numpy as np\n",
    "import statistics\n",
    "import matplotlib.pyplot as plt"
   ]
  },
  {
   "cell_type": "markdown",
   "metadata": {},
   "source": [
    "# Credentials and Authorization"
   ]
  },
  {
   "cell_type": "code",
   "execution_count": 123,
   "metadata": {},
   "outputs": [
    {
     "data": {
      "text/html": [
       "<div>\n",
       "<style scoped>\n",
       "    .dataframe tbody tr th:only-of-type {\n",
       "        vertical-align: middle;\n",
       "    }\n",
       "\n",
       "    .dataframe tbody tr th {\n",
       "        vertical-align: top;\n",
       "    }\n",
       "\n",
       "    .dataframe thead th {\n",
       "        text-align: right;\n",
       "    }\n",
       "</style>\n",
       "<table border=\"1\" class=\"dataframe\">\n",
       "  <thead>\n",
       "    <tr style=\"text-align: right;\">\n",
       "      <th></th>\n",
       "      <th>Username</th>\n",
       "      <th>Created_at</th>\n",
       "      <th>Text</th>\n",
       "    </tr>\n",
       "  </thead>\n",
       "  <tbody>\n",
       "    <tr>\n",
       "      <th>0</th>\n",
       "      <td>DelPatricia19</td>\n",
       "      <td>2020-11-13 20:55:28</td>\n",
       "      <td>hora decisao vamos unir fazer mudanca recife p...</td>\n",
       "    </tr>\n",
       "    <tr>\n",
       "      <th>1</th>\n",
       "      <td>DelPatricia19</td>\n",
       "      <td>2020-11-13 20:38:56</td>\n",
       "      <td>agradecemos apoio vamos juntos mudar recife</td>\n",
       "    </tr>\n",
       "    <tr>\n",
       "      <th>2</th>\n",
       "      <td>DelPatricia19</td>\n",
       "      <td>2020-11-13 20:37:57</td>\n",
       "      <td>vamos juntos fazer recife melhor</td>\n",
       "    </tr>\n",
       "    <tr>\n",
       "      <th>3</th>\n",
       "      <td>DelPatricia19</td>\n",
       "      <td>2020-11-13 20:37:38</td>\n",
       "      <td>vamos juntos</td>\n",
       "    </tr>\n",
       "    <tr>\n",
       "      <th>4</th>\n",
       "      <td>DelPatricia19</td>\n",
       "      <td>2020-11-13 20:00:20</td>\n",
       "      <td>mudanca chegou chama delegada patricia domingo...</td>\n",
       "    </tr>\n",
       "  </tbody>\n",
       "</table>\n",
       "</div>"
      ],
      "text/plain": [
       "        Username           Created_at  \\\n",
       "0  DelPatricia19  2020-11-13 20:55:28   \n",
       "1  DelPatricia19  2020-11-13 20:38:56   \n",
       "2  DelPatricia19  2020-11-13 20:37:57   \n",
       "3  DelPatricia19  2020-11-13 20:37:38   \n",
       "4  DelPatricia19  2020-11-13 20:00:20   \n",
       "\n",
       "                                                Text  \n",
       "0  hora decisao vamos unir fazer mudanca recife p...  \n",
       "1        agradecemos apoio vamos juntos mudar recife  \n",
       "2                   vamos juntos fazer recife melhor  \n",
       "3                                       vamos juntos  \n",
       "4  mudanca chegou chama delegada patricia domingo...  "
      ]
     },
     "execution_count": 123,
     "metadata": {},
     "output_type": "execute_result"
    }
   ],
   "source": [
    "with open(\"credentials.json\", 'r') as jsonfile:\n",
    "    credentials = json.load(jsonfile)['ibm-watson']\n",
    "\n",
    "authenticator = IAMAuthenticator(credentials['api-key'])\n",
    "natural_language_understanding = NaturalLanguageUnderstandingV1(\n",
    "    version=credentials['version'],\n",
    "    authenticator=authenticator\n",
    ")\n",
    "natural_language_understanding.set_service_url(credentials['url'])\n",
    "\n",
    "tweets_df = pd.read_csv(str(pathlib.Path().absolute()) + '\\\\datasets\\\\firstRound.csv')\n",
    "tweets_df.head()"
   ]
  },
  {
   "cell_type": "markdown",
   "metadata": {},
   "source": [
    "# Sentiment Analysis"
   ]
  },
  {
   "cell_type": "code",
   "execution_count": 124,
   "metadata": {},
   "outputs": [],
   "source": [
    "def analyseSentiment(text):\n",
    "    response = natural_language_understanding.analyze(\n",
    "    text=text,\n",
    "    language = 'pt',\n",
    "    features=Features(sentiment=SentimentOptions(document=True))).get_result()\n",
    "    return (response['sentiment']['document']['label'],response['sentiment']['document']['score'])\n"
   ]
  },
  {
   "cell_type": "code",
   "execution_count": 125,
   "metadata": {},
   "outputs": [
    {
     "data": {
      "text/html": [
       "<div>\n",
       "<style scoped>\n",
       "    .dataframe tbody tr th:only-of-type {\n",
       "        vertical-align: middle;\n",
       "    }\n",
       "\n",
       "    .dataframe tbody tr th {\n",
       "        vertical-align: top;\n",
       "    }\n",
       "\n",
       "    .dataframe thead th {\n",
       "        text-align: right;\n",
       "    }\n",
       "</style>\n",
       "<table border=\"1\" class=\"dataframe\">\n",
       "  <thead>\n",
       "    <tr style=\"text-align: right;\">\n",
       "      <th></th>\n",
       "      <th>Username</th>\n",
       "      <th>Created_at</th>\n",
       "      <th>Text</th>\n",
       "      <th>Label</th>\n",
       "      <th>Score</th>\n",
       "    </tr>\n",
       "  </thead>\n",
       "  <tbody>\n",
       "    <tr>\n",
       "      <th>0</th>\n",
       "      <td>DelPatricia19</td>\n",
       "      <td>2020-11-13 20:55:28</td>\n",
       "      <td>hora decisao vamos unir fazer mudanca recife p...</td>\n",
       "      <td>neutral</td>\n",
       "      <td>0.000000</td>\n",
       "    </tr>\n",
       "    <tr>\n",
       "      <th>1</th>\n",
       "      <td>DelPatricia19</td>\n",
       "      <td>2020-11-13 20:38:56</td>\n",
       "      <td>agradecemos apoio vamos juntos mudar recife</td>\n",
       "      <td>positive</td>\n",
       "      <td>0.884153</td>\n",
       "    </tr>\n",
       "    <tr>\n",
       "      <th>2</th>\n",
       "      <td>DelPatricia19</td>\n",
       "      <td>2020-11-13 20:37:57</td>\n",
       "      <td>vamos juntos fazer recife melhor</td>\n",
       "      <td>positive</td>\n",
       "      <td>0.927721</td>\n",
       "    </tr>\n",
       "    <tr>\n",
       "      <th>3</th>\n",
       "      <td>DelPatricia19</td>\n",
       "      <td>2020-11-13 20:37:38</td>\n",
       "      <td>vamos juntos</td>\n",
       "      <td>positive</td>\n",
       "      <td>0.905184</td>\n",
       "    </tr>\n",
       "    <tr>\n",
       "      <th>4</th>\n",
       "      <td>DelPatricia19</td>\n",
       "      <td>2020-11-13 20:00:20</td>\n",
       "      <td>mudanca chegou chama delegada patricia domingo...</td>\n",
       "      <td>neutral</td>\n",
       "      <td>0.000000</td>\n",
       "    </tr>\n",
       "  </tbody>\n",
       "</table>\n",
       "</div>"
      ],
      "text/plain": [
       "        Username           Created_at  \\\n",
       "0  DelPatricia19  2020-11-13 20:55:28   \n",
       "1  DelPatricia19  2020-11-13 20:38:56   \n",
       "2  DelPatricia19  2020-11-13 20:37:57   \n",
       "3  DelPatricia19  2020-11-13 20:37:38   \n",
       "4  DelPatricia19  2020-11-13 20:00:20   \n",
       "\n",
       "                                                Text     Label     Score  \n",
       "0  hora decisao vamos unir fazer mudanca recife p...   neutral  0.000000  \n",
       "1        agradecemos apoio vamos juntos mudar recife  positive  0.884153  \n",
       "2                   vamos juntos fazer recife melhor  positive  0.927721  \n",
       "3                                       vamos juntos  positive  0.905184  \n",
       "4  mudanca chegou chama delegada patricia domingo...   neutral  0.000000  "
      ]
     },
     "execution_count": 125,
     "metadata": {},
     "output_type": "execute_result"
    }
   ],
   "source": [
    "label = []\n",
    "score = []\n",
    "for t in tweets_df.Text:\n",
    "    result = analyse(t)\n",
    "    label.append(result[0])\n",
    "    score.append(result[1])\n",
    "    \n",
    "tweets_df['Label'] = label\n",
    "tweets_df['Score'] = score\n",
    "\n",
    "tweets_df.head()"
   ]
  },
  {
   "cell_type": "markdown",
   "metadata": {},
   "source": [
    "# Generate CSV - First Round with Sentiment Analysis"
   ]
  },
  {
   "cell_type": "code",
   "execution_count": 130,
   "metadata": {},
   "outputs": [],
   "source": [
    "tweets_df['Created_at'] = tweets_df['Created_at'].apply(lambda d: datetime.datetime.strptime(d, '%Y-%m-%d %H:%M:%S'))\n",
    "tweets_df.to_csv(str(pathlib.Path().absolute()) + '\\\\datasets\\\\firstRoundWithSA.csv', index=False)"
   ]
  },
  {
   "cell_type": "markdown",
   "metadata": {},
   "source": [
    "# Delegada Patricia tweets"
   ]
  },
  {
   "cell_type": "code",
   "execution_count": 190,
   "metadata": {},
   "outputs": [
    {
     "name": "stderr",
     "output_type": "stream",
     "text": [
      "<ipython-input-190-01980539edaa>:4: SettingWithCopyWarning: \n",
      "A value is trying to be set on a copy of a slice from a DataFrame.\n",
      "Try using .loc[row_indexer,col_indexer] = value instead\n",
      "\n",
      "See the caveats in the documentation: https://pandas.pydata.org/pandas-docs/stable/user_guide/indexing.html#returning-a-view-versus-a-copy\n",
      "  delPatricia_tweets['Created_at'] = delPatricia_tweets['Created_at'].apply(lambda d: d.date())\n"
     ]
    },
    {
     "data": {
      "text/html": [
       "<div>\n",
       "<style scoped>\n",
       "    .dataframe tbody tr th:only-of-type {\n",
       "        vertical-align: middle;\n",
       "    }\n",
       "\n",
       "    .dataframe tbody tr th {\n",
       "        vertical-align: top;\n",
       "    }\n",
       "\n",
       "    .dataframe thead th {\n",
       "        text-align: right;\n",
       "    }\n",
       "</style>\n",
       "<table border=\"1\" class=\"dataframe\">\n",
       "  <thead>\n",
       "    <tr style=\"text-align: right;\">\n",
       "      <th></th>\n",
       "      <th>Username</th>\n",
       "      <th>Created_at</th>\n",
       "      <th>Text</th>\n",
       "      <th>Label</th>\n",
       "      <th>Score</th>\n",
       "    </tr>\n",
       "  </thead>\n",
       "  <tbody>\n",
       "    <tr>\n",
       "      <th>1</th>\n",
       "      <td>DelPatricia19</td>\n",
       "      <td>2020-11-13</td>\n",
       "      <td>agradecemos apoio vamos juntos mudar recife</td>\n",
       "      <td>positive</td>\n",
       "      <td>0.884153</td>\n",
       "    </tr>\n",
       "    <tr>\n",
       "      <th>2</th>\n",
       "      <td>DelPatricia19</td>\n",
       "      <td>2020-11-13</td>\n",
       "      <td>vamos juntos fazer recife melhor</td>\n",
       "      <td>positive</td>\n",
       "      <td>0.927721</td>\n",
       "    </tr>\n",
       "    <tr>\n",
       "      <th>3</th>\n",
       "      <td>DelPatricia19</td>\n",
       "      <td>2020-11-13</td>\n",
       "      <td>vamos juntos</td>\n",
       "      <td>positive</td>\n",
       "      <td>0.905184</td>\n",
       "    </tr>\n",
       "    <tr>\n",
       "      <th>5</th>\n",
       "      <td>DelPatricia19</td>\n",
       "      <td>2020-11-13</td>\n",
       "      <td>vamos juntas</td>\n",
       "      <td>positive</td>\n",
       "      <td>0.834304</td>\n",
       "    </tr>\n",
       "    <tr>\n",
       "      <th>6</th>\n",
       "      <td>DelPatricia19</td>\n",
       "      <td>2020-11-13</td>\n",
       "      <td>vamos juntos construir cidade melhor</td>\n",
       "      <td>positive</td>\n",
       "      <td>0.965889</td>\n",
       "    </tr>\n",
       "  </tbody>\n",
       "</table>\n",
       "</div>"
      ],
      "text/plain": [
       "        Username  Created_at                                         Text  \\\n",
       "1  DelPatricia19  2020-11-13  agradecemos apoio vamos juntos mudar recife   \n",
       "2  DelPatricia19  2020-11-13             vamos juntos fazer recife melhor   \n",
       "3  DelPatricia19  2020-11-13                                 vamos juntos   \n",
       "5  DelPatricia19  2020-11-13                                 vamos juntas   \n",
       "6  DelPatricia19  2020-11-13         vamos juntos construir cidade melhor   \n",
       "\n",
       "      Label     Score  \n",
       "1  positive  0.884153  \n",
       "2  positive  0.927721  \n",
       "3  positive  0.905184  \n",
       "5  positive  0.834304  \n",
       "6  positive  0.965889  "
      ]
     },
     "execution_count": 190,
     "metadata": {},
     "output_type": "execute_result"
    }
   ],
   "source": [
    "delPatricia_tweets = tweets_df[tweets_df['Username'] == 'DelPatricia19']\n",
    "\n",
    "# Datetime to Date\n",
    "delPatricia_tweets['Created_at'] = delPatricia_tweets['Created_at'].apply(lambda d: d.date())\n",
    "\n",
    "# Filter by Label\n",
    "delPatricia_tweets = delPatricia_tweets[(delPatricia_tweets.Label == 'positive') | (delPatricia_tweets.Label == 'negative')]\n",
    "\n",
    "delPatricia_tweets.head()"
   ]
  },
  {
   "cell_type": "code",
   "execution_count": 194,
   "metadata": {},
   "outputs": [
    {
     "data": {
      "text/html": [
       "<div>\n",
       "<style scoped>\n",
       "    .dataframe tbody tr th:only-of-type {\n",
       "        vertical-align: middle;\n",
       "    }\n",
       "\n",
       "    .dataframe tbody tr th {\n",
       "        vertical-align: top;\n",
       "    }\n",
       "\n",
       "    .dataframe thead th {\n",
       "        text-align: right;\n",
       "    }\n",
       "</style>\n",
       "<table border=\"1\" class=\"dataframe\">\n",
       "  <thead>\n",
       "    <tr style=\"text-align: right;\">\n",
       "      <th></th>\n",
       "      <th>Score</th>\n",
       "      <th>Positive</th>\n",
       "      <th>Negative</th>\n",
       "      <th>Positive quantity</th>\n",
       "      <th>Negative quantity</th>\n",
       "      <th>Positive mean</th>\n",
       "      <th>Negative mean</th>\n",
       "    </tr>\n",
       "    <tr>\n",
       "      <th>Created_at</th>\n",
       "      <th></th>\n",
       "      <th></th>\n",
       "      <th></th>\n",
       "      <th></th>\n",
       "      <th></th>\n",
       "      <th></th>\n",
       "      <th></th>\n",
       "    </tr>\n",
       "  </thead>\n",
       "  <tbody>\n",
       "    <tr>\n",
       "      <th>2020-09-27</th>\n",
       "      <td>[0.709068, 0.923776, -0.857582, 0.954598, 0.78...</td>\n",
       "      <td>[0.709068, 0.923776, 0.954598, 0.78955, 0.8746...</td>\n",
       "      <td>[-0.857582, -0.472787]</td>\n",
       "      <td>10</td>\n",
       "      <td>-2</td>\n",
       "      <td>0.833942</td>\n",
       "      <td>-0.665184</td>\n",
       "    </tr>\n",
       "    <tr>\n",
       "      <th>2020-09-28</th>\n",
       "      <td>[0.598922, 0.89928, -0.400352]</td>\n",
       "      <td>[0.598922, 0.89928]</td>\n",
       "      <td>[-0.400352]</td>\n",
       "      <td>2</td>\n",
       "      <td>-1</td>\n",
       "      <td>0.749101</td>\n",
       "      <td>-0.400352</td>\n",
       "    </tr>\n",
       "    <tr>\n",
       "      <th>2020-09-29</th>\n",
       "      <td>[0.866092, 0.978175, 0.935493, 0.95688, 0.9496...</td>\n",
       "      <td>[0.866092, 0.978175, 0.935493, 0.95688, 0.9496...</td>\n",
       "      <td>[-0.375769, -0.669125, -0.891273, -0.980142, -...</td>\n",
       "      <td>9</td>\n",
       "      <td>-5</td>\n",
       "      <td>0.893963</td>\n",
       "      <td>-0.743082</td>\n",
       "    </tr>\n",
       "    <tr>\n",
       "      <th>2020-09-30</th>\n",
       "      <td>[-0.559151, 0.905184, 0.93734, -0.867293, 0.86...</td>\n",
       "      <td>[0.905184, 0.93734, 0.868747, 0.913933, 0.6478...</td>\n",
       "      <td>[-0.559151, -0.867293, -0.906181]</td>\n",
       "      <td>9</td>\n",
       "      <td>-3</td>\n",
       "      <td>0.872786</td>\n",
       "      <td>-0.777542</td>\n",
       "    </tr>\n",
       "    <tr>\n",
       "      <th>2020-10-01</th>\n",
       "      <td>[0.772802, 0.34535, 0.778421, -0.529352]</td>\n",
       "      <td>[0.772802, 0.34535, 0.778421]</td>\n",
       "      <td>[-0.529352]</td>\n",
       "      <td>3</td>\n",
       "      <td>-1</td>\n",
       "      <td>0.632191</td>\n",
       "      <td>-0.529352</td>\n",
       "    </tr>\n",
       "  </tbody>\n",
       "</table>\n",
       "</div>"
      ],
      "text/plain": [
       "                                                        Score  \\\n",
       "Created_at                                                      \n",
       "2020-09-27  [0.709068, 0.923776, -0.857582, 0.954598, 0.78...   \n",
       "2020-09-28                     [0.598922, 0.89928, -0.400352]   \n",
       "2020-09-29  [0.866092, 0.978175, 0.935493, 0.95688, 0.9496...   \n",
       "2020-09-30  [-0.559151, 0.905184, 0.93734, -0.867293, 0.86...   \n",
       "2020-10-01           [0.772802, 0.34535, 0.778421, -0.529352]   \n",
       "\n",
       "                                                     Positive  \\\n",
       "Created_at                                                      \n",
       "2020-09-27  [0.709068, 0.923776, 0.954598, 0.78955, 0.8746...   \n",
       "2020-09-28                                [0.598922, 0.89928]   \n",
       "2020-09-29  [0.866092, 0.978175, 0.935493, 0.95688, 0.9496...   \n",
       "2020-09-30  [0.905184, 0.93734, 0.868747, 0.913933, 0.6478...   \n",
       "2020-10-01                      [0.772802, 0.34535, 0.778421]   \n",
       "\n",
       "                                                     Negative  \\\n",
       "Created_at                                                      \n",
       "2020-09-27                             [-0.857582, -0.472787]   \n",
       "2020-09-28                                        [-0.400352]   \n",
       "2020-09-29  [-0.375769, -0.669125, -0.891273, -0.980142, -...   \n",
       "2020-09-30                  [-0.559151, -0.867293, -0.906181]   \n",
       "2020-10-01                                        [-0.529352]   \n",
       "\n",
       "            Positive quantity  Negative quantity  Positive mean  Negative mean  \n",
       "Created_at                                                                      \n",
       "2020-09-27                 10                 -2       0.833942      -0.665184  \n",
       "2020-09-28                  2                 -1       0.749101      -0.400352  \n",
       "2020-09-29                  9                 -5       0.893963      -0.743082  \n",
       "2020-09-30                  9                 -3       0.872786      -0.777542  \n",
       "2020-10-01                  3                 -1       0.632191      -0.529352  "
      ]
     },
     "execution_count": 194,
     "metadata": {},
     "output_type": "execute_result"
    }
   ],
   "source": [
    "scorebyDate_dp = delPatricia_tweets.groupby(by=['Created_at'])['Score'].apply(list).to_frame()\n",
    "\n",
    "scorebyDate_dp['Positive'] = scorebyDate_dp['Score'].apply(lambda s: [score for score in s if score > 0])\n",
    "scorebyDate_dp['Negative'] = scorebyDate_dp['Score'].apply(lambda s: [score for score in s if score < 0])\n",
    "\n",
    "scorebyDate_dp['Positive quantity'] = scorebyDate_dp['Positive'].apply(lambda s: len(s))\n",
    "scorebyDate_dp['Negative quantity'] = scorebyDate_dp['Negative'].apply(lambda s: len(s) * -1)\n",
    "\n",
    "scorebyDate_dp['Positive mean'] = scorebyDate_dp['Positive'].apply(lambda s: 0 if s == [] else statistics.mean(s))\n",
    "scorebyDate_dp['Negative mean'] = scorebyDate_dp['Negative'].apply(lambda s: 0 if s == [] else statistics.mean(s))\n",
    "\n",
    "scorebyDate_dp.head()"
   ]
  },
  {
   "cell_type": "code",
   "execution_count": 195,
   "metadata": {},
   "outputs": [
    {
     "data": {
      "text/plain": [
       "<matplotlib.legend.Legend at 0x2895cc178b0>"
      ]
     },
     "execution_count": 195,
     "metadata": {},
     "output_type": "execute_result"
    },
    {
     "data": {
      "image/png": "[encoded data removed]",
      "text/plain": [
       "<Figure size 720x720 with 1 Axes>"
      ]
     },
     "metadata": {
      "needs_background": "light"
     },
     "output_type": "display_data"
    }
   ],
   "source": [
    "fig, ax = plt.subplots(figsize=(10,10))\n",
    "width = 0.50 \n",
    "\n",
    "p1 = plt.bar(scorebyDate_dp.index,scorebyDate_dp['Positive mean'], width, bottom=scorebyDate_dp['Negative mean'], color='g')\n",
    "p2 = plt.bar(scorebyDate_dp.index,scorebyDate_dp['Negative mean'], width, color='r')\n",
    "\n",
    "plt.title('Avarage Tweets Polarity by Date - Delegada Patrícia',fontsize=15)\n",
    "plt.xlabel('Period',fontsize=12)\n",
    "plt.ylabel('Score',fontsize=12)\n",
    "plt.legend((p1[0], p2[0]), ('Positive mean', 'Negative mean'),fontsize=10)"
   ]
  },
  {
   "cell_type": "code",
   "execution_count": 199,
   "metadata": {},
   "outputs": [
    {
     "data": {
      "text/plain": [
       "<matplotlib.legend.Legend at 0x2895ddfaa60>"
      ]
     },
     "execution_count": 199,
     "metadata": {},
     "output_type": "execute_result"
    },
    {
     "data": {
      "image/png": "[encoded data removed]",
      "text/plain": [
       "<Figure size 720x720 with 1 Axes>"
      ]
     },
     "metadata": {
      "needs_background": "light"
     },
     "output_type": "display_data"
    }
   ],
   "source": [
    "fig, ax = plt.subplots(figsize=(10,10))\n",
    "width = 0.50 \n",
    "\n",
    "p1 = plt.bar(scorebyDate_dp.index,scorebyDate_dp['Positive quantity'], width, bottom=scorebyDate_dp['Negative quantity'], color='g')\n",
    "p2 = plt.bar(scorebyDate_dp.index,scorebyDate_dp['Negative quantity'], width, color='r')\n",
    "\n",
    "plt.title('Quantity of Tweets Polarity by Date - Delegada Patrícia',fontsize=15)\n",
    "plt.xlabel('Period',fontsize=12)\n",
    "plt.ylabel('Quantity',fontsize=12)\n",
    "plt.legend((p1[0], p2[0]), ('Positive quantity', 'Negative quantity'),fontsize=10)"
   ]
  },
  {
   "cell_type": "markdown",
   "metadata": {},
   "source": [
    "# João Campos tweets"
   ]
  },
  {
   "cell_type": "code",
   "execution_count": 176,
   "metadata": {},
   "outputs": [
    {
     "name": "stderr",
     "output_type": "stream",
     "text": [
      "<ipython-input-176-c17fccfeaf4c>:4: SettingWithCopyWarning: \n",
      "A value is trying to be set on a copy of a slice from a DataFrame.\n",
      "Try using .loc[row_indexer,col_indexer] = value instead\n",
      "\n",
      "See the caveats in the documentation: https://pandas.pydata.org/pandas-docs/stable/user_guide/indexing.html#returning-a-view-versus-a-copy\n",
      "  joaoCampos_tweets['Created_at'] = joaoCampos_tweets['Created_at'].apply(lambda d: d.date())\n"
     ]
    },
    {
     "data": {
      "text/html": [
       "<div>\n",
       "<style scoped>\n",
       "    .dataframe tbody tr th:only-of-type {\n",
       "        vertical-align: middle;\n",
       "    }\n",
       "\n",
       "    .dataframe tbody tr th {\n",
       "        vertical-align: top;\n",
       "    }\n",
       "\n",
       "    .dataframe thead th {\n",
       "        text-align: right;\n",
       "    }\n",
       "</style>\n",
       "<table border=\"1\" class=\"dataframe\">\n",
       "  <thead>\n",
       "    <tr style=\"text-align: right;\">\n",
       "      <th></th>\n",
       "      <th>Username</th>\n",
       "      <th>Created_at</th>\n",
       "      <th>Text</th>\n",
       "      <th>Label</th>\n",
       "      <th>Score</th>\n",
       "    </tr>\n",
       "  </thead>\n",
       "  <tbody>\n",
       "    <tr>\n",
       "      <th>624</th>\n",
       "      <td>JoaoCampos</td>\n",
       "      <td>2020-11-13</td>\n",
       "      <td>jingle tomou conta recife voce ja sabe agora v...</td>\n",
       "      <td>positive</td>\n",
       "      <td>0.761809</td>\n",
       "    </tr>\n",
       "    <tr>\n",
       "      <th>626</th>\n",
       "      <td>JoaoCampos</td>\n",
       "      <td>2020-11-10</td>\n",
       "      <td>capacidade ousar gestao somada poder juventude...</td>\n",
       "      <td>negative</td>\n",
       "      <td>-0.679297</td>\n",
       "    </tr>\n",
       "    <tr>\n",
       "      <th>628</th>\n",
       "      <td>JoaoCampos</td>\n",
       "      <td>2020-11-10</td>\n",
       "      <td>quero agradecer cada acolhida longo dessa cami...</td>\n",
       "      <td>positive</td>\n",
       "      <td>0.914205</td>\n",
       "    </tr>\n",
       "    <tr>\n",
       "      <th>629</th>\n",
       "      <td>JoaoCampos</td>\n",
       "      <td>2020-11-10</td>\n",
       "      <td>proposta isentar tarifa esgoto familias baixa ...</td>\n",
       "      <td>negative</td>\n",
       "      <td>-0.685364</td>\n",
       "    </tr>\n",
       "    <tr>\n",
       "      <th>632</th>\n",
       "      <td>JoaoCampos</td>\n",
       "      <td>2020-11-10</td>\n",
       "      <td>capacidade ousar gestao somada poder juventude...</td>\n",
       "      <td>negative</td>\n",
       "      <td>-0.520782</td>\n",
       "    </tr>\n",
       "  </tbody>\n",
       "</table>\n",
       "</div>"
      ],
      "text/plain": [
       "       Username  Created_at  \\\n",
       "624  JoaoCampos  2020-11-13   \n",
       "626  JoaoCampos  2020-11-10   \n",
       "628  JoaoCampos  2020-11-10   \n",
       "629  JoaoCampos  2020-11-10   \n",
       "632  JoaoCampos  2020-11-10   \n",
       "\n",
       "                                                  Text     Label     Score  \n",
       "624  jingle tomou conta recife voce ja sabe agora v...  positive  0.761809  \n",
       "626  capacidade ousar gestao somada poder juventude...  negative -0.679297  \n",
       "628  quero agradecer cada acolhida longo dessa cami...  positive  0.914205  \n",
       "629  proposta isentar tarifa esgoto familias baixa ...  negative -0.685364  \n",
       "632  capacidade ousar gestao somada poder juventude...  negative -0.520782  "
      ]
     },
     "execution_count": 176,
     "metadata": {},
     "output_type": "execute_result"
    }
   ],
   "source": [
    "joaoCampos_tweets = tweets_df[tweets_df['Username'] == 'JoaoCampos']\n",
    "\n",
    "# Datetime to Date\n",
    "joaoCampos_tweets['Created_at'] = joaoCampos_tweets['Created_at'].apply(lambda d: d.date())\n",
    "\n",
    "# Filter by Label\n",
    "joaoCampos_tweets = joaoCampos_tweets[(joaoCampos_tweets.Label == 'positive') | (joaoCampos_tweets.Label == 'negative')]\n",
    "\n",
    "joaoCampos_tweets.head()"
   ]
  },
  {
   "cell_type": "code",
   "execution_count": 197,
   "metadata": {},
   "outputs": [
    {
     "data": {
      "text/html": [
       "<div>\n",
       "<style scoped>\n",
       "    .dataframe tbody tr th:only-of-type {\n",
       "        vertical-align: middle;\n",
       "    }\n",
       "\n",
       "    .dataframe tbody tr th {\n",
       "        vertical-align: top;\n",
       "    }\n",
       "\n",
       "    .dataframe thead th {\n",
       "        text-align: right;\n",
       "    }\n",
       "</style>\n",
       "<table border=\"1\" class=\"dataframe\">\n",
       "  <thead>\n",
       "    <tr style=\"text-align: right;\">\n",
       "      <th></th>\n",
       "      <th>Score</th>\n",
       "      <th>Positive</th>\n",
       "      <th>Negative</th>\n",
       "      <th>Positive quantity</th>\n",
       "      <th>Negative quantity</th>\n",
       "      <th>Positive mean</th>\n",
       "      <th>Negative mean</th>\n",
       "    </tr>\n",
       "    <tr>\n",
       "      <th>Created_at</th>\n",
       "      <th></th>\n",
       "      <th></th>\n",
       "      <th></th>\n",
       "      <th></th>\n",
       "      <th></th>\n",
       "      <th></th>\n",
       "      <th></th>\n",
       "    </tr>\n",
       "  </thead>\n",
       "  <tbody>\n",
       "    <tr>\n",
       "      <th>2020-09-28</th>\n",
       "      <td>[0.697361, 0.880535, -0.821735, 0.984147]</td>\n",
       "      <td>[0.697361, 0.880535, 0.984147]</td>\n",
       "      <td>[-0.821735]</td>\n",
       "      <td>3</td>\n",
       "      <td>-1</td>\n",
       "      <td>0.854014</td>\n",
       "      <td>-0.821735</td>\n",
       "    </tr>\n",
       "    <tr>\n",
       "      <th>2020-09-29</th>\n",
       "      <td>[-0.888963, 0.350822, -0.684382]</td>\n",
       "      <td>[0.350822]</td>\n",
       "      <td>[-0.888963, -0.684382]</td>\n",
       "      <td>1</td>\n",
       "      <td>-2</td>\n",
       "      <td>0.350822</td>\n",
       "      <td>-0.786672</td>\n",
       "    </tr>\n",
       "    <tr>\n",
       "      <th>2020-09-30</th>\n",
       "      <td>[0.913862, 0.783965, 0.970137, 0.783965, 0.754...</td>\n",
       "      <td>[0.913862, 0.783965, 0.970137, 0.783965, 0.754...</td>\n",
       "      <td>[-0.281047]</td>\n",
       "      <td>6</td>\n",
       "      <td>-1</td>\n",
       "      <td>0.862292</td>\n",
       "      <td>-0.281047</td>\n",
       "    </tr>\n",
       "    <tr>\n",
       "      <th>2020-10-01</th>\n",
       "      <td>[0.816886, 0.607325, -0.847931, 0.573068, -0.9...</td>\n",
       "      <td>[0.816886, 0.607325, 0.573068, 0.85013]</td>\n",
       "      <td>[-0.847931, -0.987341]</td>\n",
       "      <td>4</td>\n",
       "      <td>-2</td>\n",
       "      <td>0.711852</td>\n",
       "      <td>-0.917636</td>\n",
       "    </tr>\n",
       "    <tr>\n",
       "      <th>2020-10-02</th>\n",
       "      <td>[0.861903]</td>\n",
       "      <td>[0.861903]</td>\n",
       "      <td>[]</td>\n",
       "      <td>1</td>\n",
       "      <td>0</td>\n",
       "      <td>0.861903</td>\n",
       "      <td>0.000000</td>\n",
       "    </tr>\n",
       "  </tbody>\n",
       "</table>\n",
       "</div>"
      ],
      "text/plain": [
       "                                                        Score  \\\n",
       "Created_at                                                      \n",
       "2020-09-28          [0.697361, 0.880535, -0.821735, 0.984147]   \n",
       "2020-09-29                   [-0.888963, 0.350822, -0.684382]   \n",
       "2020-09-30  [0.913862, 0.783965, 0.970137, 0.783965, 0.754...   \n",
       "2020-10-01  [0.816886, 0.607325, -0.847931, 0.573068, -0.9...   \n",
       "2020-10-02                                         [0.861903]   \n",
       "\n",
       "                                                     Positive  \\\n",
       "Created_at                                                      \n",
       "2020-09-28                     [0.697361, 0.880535, 0.984147]   \n",
       "2020-09-29                                         [0.350822]   \n",
       "2020-09-30  [0.913862, 0.783965, 0.970137, 0.783965, 0.754...   \n",
       "2020-10-01            [0.816886, 0.607325, 0.573068, 0.85013]   \n",
       "2020-10-02                                         [0.861903]   \n",
       "\n",
       "                          Negative  Positive quantity  Negative quantity  \\\n",
       "Created_at                                                                 \n",
       "2020-09-28             [-0.821735]                  3                 -1   \n",
       "2020-09-29  [-0.888963, -0.684382]                  1                 -2   \n",
       "2020-09-30             [-0.281047]                  6                 -1   \n",
       "2020-10-01  [-0.847931, -0.987341]                  4                 -2   \n",
       "2020-10-02                      []                  1                  0   \n",
       "\n",
       "            Positive mean  Negative mean  \n",
       "Created_at                                \n",
       "2020-09-28       0.854014      -0.821735  \n",
       "2020-09-29       0.350822      -0.786672  \n",
       "2020-09-30       0.862292      -0.281047  \n",
       "2020-10-01       0.711852      -0.917636  \n",
       "2020-10-02       0.861903       0.000000  "
      ]
     },
     "execution_count": 197,
     "metadata": {},
     "output_type": "execute_result"
    }
   ],
   "source": [
    "scorebyDate_jc = joaoCampos_tweets.groupby(by=['Created_at'])['Score'].apply(list).to_frame()\n",
    "\n",
    "scorebyDate_jc['Positive'] = scorebyDate_jc['Score'].apply(lambda s: [score for score in s if score > 0])\n",
    "scorebyDate_jc['Negative'] = scorebyDate_jc['Score'].apply(lambda s: [score for score in s if score < 0])\n",
    "\n",
    "scorebyDate_jc['Positive quantity'] = scorebyDate_jc['Positive'].apply(lambda s: len(s))\n",
    "scorebyDate_jc['Negative quantity'] = scorebyDate_jc['Negative'].apply(lambda s: len(s) * -1)\n",
    "\n",
    "scorebyDate_jc['Positive mean'] = scorebyDate_jc['Positive'].apply(lambda s: 0 if s == [] else statistics.mean(s))\n",
    "scorebyDate_jc['Negative mean'] = scorebyDate_jc['Negative'].apply(lambda s: 0 if s == [] else statistics.mean(s))\n",
    "\n",
    "scorebyDate_jc.head()"
   ]
  },
  {
   "cell_type": "code",
   "execution_count": 198,
   "metadata": {},
   "outputs": [
    {
     "data": {
      "text/plain": [
       "<matplotlib.legend.Legend at 0x2895dd092e0>"
      ]
     },
     "execution_count": 198,
     "metadata": {},
     "output_type": "execute_result"
    },
    {
     "data": {
      "image/png": "[encoded data removed]",
      "text/plain": [
       "<Figure size 720x720 with 1 Axes>"
      ]
     },
     "metadata": {
      "needs_background": "light"
     },
     "output_type": "display_data"
    }
   ],
   "source": [
    "fig, ax = plt.subplots(figsize=(10,10))\n",
    "width = 0.50 \n",
    "\n",
    "p1 = plt.bar(scorebyDate_jc.index,scorebyDate_jc['Positive mean'], width, bottom=scorebyDate_jc['Negative mean'], color='g')\n",
    "p2 = plt.bar(scorebyDate_jc.index,scorebyDate_jc['Negative mean'], width, color='r')\n",
    "\n",
    "plt.title('Avarage Tweets Polarity by Date - Joao Campos',fontsize=15)\n",
    "plt.xlabel('Period',fontsize=12)\n",
    "plt.ylabel('Score',fontsize=12)\n",
    "plt.legend((p1[0], p2[0]), ('Positive mean', 'Negative mean'),fontsize=10)"
   ]
  },
  {
   "cell_type": "code",
   "execution_count": 200,
   "metadata": {},
   "outputs": [
    {
     "data": {
      "text/plain": [
       "<matplotlib.legend.Legend at 0x2895d0a0a00>"
      ]
     },
     "execution_count": 200,
     "metadata": {},
     "output_type": "execute_result"
    },
    {
     "data": {
      "image/png": "[encoded data removed]",
      "text/plain": [
       "<Figure size 720x720 with 1 Axes>"
      ]
     },
     "metadata": {
      "needs_background": "light"
     },
     "output_type": "display_data"
    }
   ],
   "source": [
    "fig, ax = plt.subplots(figsize=(10,10))\n",
    "width = 0.50 \n",
    "\n",
    "p1 = plt.bar(scorebyDate_jc.index,scorebyDate_jc['Positive quantity'], width, bottom=scorebyDate_jc['Negative quantity'], color='g')\n",
    "p2 = plt.bar(scorebyDate_jc.index,scorebyDate_jc['Negative quantity'], width, color='r')\n",
    "\n",
    "plt.title('Quantity of Tweets Polarity by Date - João Campos',fontsize=15)\n",
    "plt.xlabel('Period',fontsize=12)\n",
    "plt.ylabel('Quantity',fontsize=12)\n",
    "plt.legend((p1[0], p2[0]), ('Positive quantity', 'Negative quantity'),fontsize=10)"
   ]
  },
  {
   "cell_type": "markdown",
   "metadata": {},
   "source": [
    "# Marília Arraes tweets"
   ]
  },
  {
   "cell_type": "code",
   "execution_count": 184,
   "metadata": {},
   "outputs": [
    {
     "name": "stderr",
     "output_type": "stream",
     "text": [
      "<ipython-input-184-9474c8b21488>:4: SettingWithCopyWarning: \n",
      "A value is trying to be set on a copy of a slice from a DataFrame.\n",
      "Try using .loc[row_indexer,col_indexer] = value instead\n",
      "\n",
      "See the caveats in the documentation: https://pandas.pydata.org/pandas-docs/stable/user_guide/indexing.html#returning-a-view-versus-a-copy\n",
      "  mariliaArraes_tweets['Created_at'] = mariliaArraes_tweets['Created_at'].apply(lambda d: d.date())\n"
     ]
    },
    {
     "data": {
      "text/html": [
       "<div>\n",
       "<style scoped>\n",
       "    .dataframe tbody tr th:only-of-type {\n",
       "        vertical-align: middle;\n",
       "    }\n",
       "\n",
       "    .dataframe tbody tr th {\n",
       "        vertical-align: top;\n",
       "    }\n",
       "\n",
       "    .dataframe thead th {\n",
       "        text-align: right;\n",
       "    }\n",
       "</style>\n",
       "<table border=\"1\" class=\"dataframe\">\n",
       "  <thead>\n",
       "    <tr style=\"text-align: right;\">\n",
       "      <th></th>\n",
       "      <th>Username</th>\n",
       "      <th>Created_at</th>\n",
       "      <th>Text</th>\n",
       "      <th>Label</th>\n",
       "      <th>Score</th>\n",
       "    </tr>\n",
       "  </thead>\n",
       "  <tbody>\n",
       "    <tr>\n",
       "      <th>942</th>\n",
       "      <td>MariliaArraes</td>\n",
       "      <td>2020-11-13</td>\n",
       "      <td>troinhaaaa</td>\n",
       "      <td>positive</td>\n",
       "      <td>0.386655</td>\n",
       "    </tr>\n",
       "    <tr>\n",
       "      <th>943</th>\n",
       "      <td>MariliaArraes</td>\n",
       "      <td>2020-11-13</td>\n",
       "      <td>noite acabei conversar participacao especial f...</td>\n",
       "      <td>positive</td>\n",
       "      <td>0.700538</td>\n",
       "    </tr>\n",
       "    <tr>\n",
       "      <th>944</th>\n",
       "      <td>MariliaArraes</td>\n",
       "      <td>2020-11-13</td>\n",
       "      <td>rt quero fazer promessa aqui ganhar quero ir p...</td>\n",
       "      <td>positive</td>\n",
       "      <td>0.437789</td>\n",
       "    </tr>\n",
       "    <tr>\n",
       "      <th>945</th>\n",
       "      <td>MariliaArraes</td>\n",
       "      <td>2020-11-13</td>\n",
       "      <td>daqui recife vai sair primavera pra libertar b...</td>\n",
       "      <td>negative</td>\n",
       "      <td>-0.749992</td>\n",
       "    </tr>\n",
       "    <tr>\n",
       "      <th>946</th>\n",
       "      <td>MariliaArraes</td>\n",
       "      <td>2020-11-13</td>\n",
       "      <td>promessas dessas gente perto nunca virar pagin...</td>\n",
       "      <td>negative</td>\n",
       "      <td>-0.933886</td>\n",
       "    </tr>\n",
       "  </tbody>\n",
       "</table>\n",
       "</div>"
      ],
      "text/plain": [
       "          Username  Created_at  \\\n",
       "942  MariliaArraes  2020-11-13   \n",
       "943  MariliaArraes  2020-11-13   \n",
       "944  MariliaArraes  2020-11-13   \n",
       "945  MariliaArraes  2020-11-13   \n",
       "946  MariliaArraes  2020-11-13   \n",
       "\n",
       "                                                  Text     Label     Score  \n",
       "942                                         troinhaaaa  positive  0.386655  \n",
       "943  noite acabei conversar participacao especial f...  positive  0.700538  \n",
       "944  rt quero fazer promessa aqui ganhar quero ir p...  positive  0.437789  \n",
       "945  daqui recife vai sair primavera pra libertar b...  negative -0.749992  \n",
       "946  promessas dessas gente perto nunca virar pagin...  negative -0.933886  "
      ]
     },
     "execution_count": 184,
     "metadata": {},
     "output_type": "execute_result"
    }
   ],
   "source": [
    "mariliaArraes_tweets = tweets_df[tweets_df['Username'] == 'MariliaArraes']\n",
    "\n",
    "# Datetime to Date\n",
    "mariliaArraes_tweets['Created_at'] = mariliaArraes_tweets['Created_at'].apply(lambda d: d.date())\n",
    "\n",
    "# Filter by Label\n",
    "mariliaArraes_tweets = mariliaArraes_tweets[(mariliaArraes_tweets.Label == 'positive') | (mariliaArraes_tweets.Label == 'negative')]\n",
    "\n",
    "mariliaArraes_tweets.head()"
   ]
  },
  {
   "cell_type": "code",
   "execution_count": 201,
   "metadata": {},
   "outputs": [
    {
     "data": {
      "text/html": [
       "<div>\n",
       "<style scoped>\n",
       "    .dataframe tbody tr th:only-of-type {\n",
       "        vertical-align: middle;\n",
       "    }\n",
       "\n",
       "    .dataframe tbody tr th {\n",
       "        vertical-align: top;\n",
       "    }\n",
       "\n",
       "    .dataframe thead th {\n",
       "        text-align: right;\n",
       "    }\n",
       "</style>\n",
       "<table border=\"1\" class=\"dataframe\">\n",
       "  <thead>\n",
       "    <tr style=\"text-align: right;\">\n",
       "      <th></th>\n",
       "      <th>Score</th>\n",
       "      <th>Positive</th>\n",
       "      <th>Negative</th>\n",
       "      <th>Positive quantity</th>\n",
       "      <th>Negative quantity</th>\n",
       "      <th>Positive mean</th>\n",
       "      <th>Negative mean</th>\n",
       "    </tr>\n",
       "    <tr>\n",
       "      <th>Created_at</th>\n",
       "      <th></th>\n",
       "      <th></th>\n",
       "      <th></th>\n",
       "      <th></th>\n",
       "      <th></th>\n",
       "      <th></th>\n",
       "      <th></th>\n",
       "    </tr>\n",
       "  </thead>\n",
       "  <tbody>\n",
       "    <tr>\n",
       "      <th>2020-09-27</th>\n",
       "      <td>[0.629973, 0.991467, 0.970158, -0.500153, 0.89...</td>\n",
       "      <td>[0.629973, 0.991467, 0.970158, 0.896278, 0.846...</td>\n",
       "      <td>[-0.500153, -0.351499]</td>\n",
       "      <td>5</td>\n",
       "      <td>-2</td>\n",
       "      <td>0.866824</td>\n",
       "      <td>-0.425826</td>\n",
       "    </tr>\n",
       "    <tr>\n",
       "      <th>2020-09-28</th>\n",
       "      <td>[0.775266, 0.65094, -0.481323]</td>\n",
       "      <td>[0.775266, 0.65094]</td>\n",
       "      <td>[-0.481323]</td>\n",
       "      <td>2</td>\n",
       "      <td>-1</td>\n",
       "      <td>0.713103</td>\n",
       "      <td>-0.481323</td>\n",
       "    </tr>\n",
       "    <tr>\n",
       "      <th>2020-09-29</th>\n",
       "      <td>[0.991829, 0.792042, 0.842602, 0.584652, -0.71...</td>\n",
       "      <td>[0.991829, 0.792042, 0.842602, 0.584652]</td>\n",
       "      <td>[-0.713906, -0.868346]</td>\n",
       "      <td>4</td>\n",
       "      <td>-2</td>\n",
       "      <td>0.802781</td>\n",
       "      <td>-0.791126</td>\n",
       "    </tr>\n",
       "    <tr>\n",
       "      <th>2020-09-30</th>\n",
       "      <td>[0.742008, -0.765428]</td>\n",
       "      <td>[0.742008]</td>\n",
       "      <td>[-0.765428]</td>\n",
       "      <td>1</td>\n",
       "      <td>-1</td>\n",
       "      <td>0.742008</td>\n",
       "      <td>-0.765428</td>\n",
       "    </tr>\n",
       "    <tr>\n",
       "      <th>2020-10-01</th>\n",
       "      <td>[-0.740885, -0.221436, -0.834516, -0.837807, -...</td>\n",
       "      <td>[0.572462, 0.39843, 0.605648]</td>\n",
       "      <td>[-0.740885, -0.221436, -0.834516, -0.837807, -...</td>\n",
       "      <td>3</td>\n",
       "      <td>-11</td>\n",
       "      <td>0.525513</td>\n",
       "      <td>-0.697652</td>\n",
       "    </tr>\n",
       "  </tbody>\n",
       "</table>\n",
       "</div>"
      ],
      "text/plain": [
       "                                                        Score  \\\n",
       "Created_at                                                      \n",
       "2020-09-27  [0.629973, 0.991467, 0.970158, -0.500153, 0.89...   \n",
       "2020-09-28                     [0.775266, 0.65094, -0.481323]   \n",
       "2020-09-29  [0.991829, 0.792042, 0.842602, 0.584652, -0.71...   \n",
       "2020-09-30                              [0.742008, -0.765428]   \n",
       "2020-10-01  [-0.740885, -0.221436, -0.834516, -0.837807, -...   \n",
       "\n",
       "                                                     Positive  \\\n",
       "Created_at                                                      \n",
       "2020-09-27  [0.629973, 0.991467, 0.970158, 0.896278, 0.846...   \n",
       "2020-09-28                                [0.775266, 0.65094]   \n",
       "2020-09-29           [0.991829, 0.792042, 0.842602, 0.584652]   \n",
       "2020-09-30                                         [0.742008]   \n",
       "2020-10-01                      [0.572462, 0.39843, 0.605648]   \n",
       "\n",
       "                                                     Negative  \\\n",
       "Created_at                                                      \n",
       "2020-09-27                             [-0.500153, -0.351499]   \n",
       "2020-09-28                                        [-0.481323]   \n",
       "2020-09-29                             [-0.713906, -0.868346]   \n",
       "2020-09-30                                        [-0.765428]   \n",
       "2020-10-01  [-0.740885, -0.221436, -0.834516, -0.837807, -...   \n",
       "\n",
       "            Positive quantity  Negative quantity  Positive mean  Negative mean  \n",
       "Created_at                                                                      \n",
       "2020-09-27                  5                 -2       0.866824      -0.425826  \n",
       "2020-09-28                  2                 -1       0.713103      -0.481323  \n",
       "2020-09-29                  4                 -2       0.802781      -0.791126  \n",
       "2020-09-30                  1                 -1       0.742008      -0.765428  \n",
       "2020-10-01                  3                -11       0.525513      -0.697652  "
      ]
     },
     "execution_count": 201,
     "metadata": {},
     "output_type": "execute_result"
    }
   ],
   "source": [
    "scorebyDate_ma = mariliaArraes_tweets.groupby(by=['Created_at'])['Score'].apply(list).to_frame()\n",
    "\n",
    "scorebyDate_ma['Positive'] = scorebyDate_ma['Score'].apply(lambda s: [score for score in s if score > 0])\n",
    "scorebyDate_ma['Negative'] = scorebyDate_ma['Score'].apply(lambda s: [score for score in s if score < 0])\n",
    "\n",
    "scorebyDate_ma['Positive quantity'] = scorebyDate_ma['Positive'].apply(lambda s: len(s))\n",
    "scorebyDate_ma['Negative quantity'] = scorebyDate_ma['Negative'].apply(lambda s: len(s) * -1)\n",
    "\n",
    "scorebyDate_ma['Positive mean'] = scorebyDate_ma['Positive'].apply(lambda s: 0 if s == [] else statistics.mean(s))\n",
    "scorebyDate_ma['Negative mean'] = scorebyDate_ma['Negative'].apply(lambda s: 0 if s == [] else statistics.mean(s))\n",
    "\n",
    "scorebyDate_ma.head()"
   ]
  },
  {
   "cell_type": "code",
   "execution_count": 202,
   "metadata": {},
   "outputs": [
    {
     "data": {
      "text/plain": [
       "<matplotlib.legend.Legend at 0x2895dd14070>"
      ]
     },
     "execution_count": 202,
     "metadata": {},
     "output_type": "execute_result"
    },
    {
     "data": {
      "image/png": "[encoded data removed]",
      "text/plain": [
       "<Figure size 720x720 with 1 Axes>"
      ]
     },
     "metadata": {
      "needs_background": "light"
     },
     "output_type": "display_data"
    }
   ],
   "source": [
    "fig, ax = plt.subplots(figsize=(10,10))\n",
    "width = 0.50 \n",
    "\n",
    "p1 = plt.bar(scorebyDate_ma.index,scorebyDate_ma['Positive mean'], width, bottom=scorebyDate_ma['Negative mean'], color='g')\n",
    "p2 = plt.bar(scorebyDate_ma.index,scorebyDate_ma['Negative mean'], width, color='r')\n",
    "\n",
    "plt.title('Avarage Tweets Polarity by Date - Marília Arraes',fontsize=15)\n",
    "plt.xlabel('Period',fontsize=12)\n",
    "plt.ylabel('Score',fontsize=12)\n",
    "plt.legend((p1[0], p2[0]), ('Positive mean', 'Negative mean'),fontsize=10)"
   ]
  },
  {
   "cell_type": "code",
   "execution_count": 203,
   "metadata": {},
   "outputs": [
    {
     "data": {
      "text/plain": [
       "<matplotlib.legend.Legend at 0x2895e7c90d0>"
      ]
     },
     "execution_count": 203,
     "metadata": {},
     "output_type": "execute_result"
    },
    {
     "data": {
      "image/png": "[encoded data removed]",
      "text/plain": [
       "<Figure size 720x720 with 1 Axes>"
      ]
     },
     "metadata": {
      "needs_background": "light"
     },
     "output_type": "display_data"
    }
   ],
   "source": [
    "fig, ax = plt.subplots(figsize=(10,10))\n",
    "width = 0.50 \n",
    "\n",
    "p1 = plt.bar(scorebyDate_ma.index,scorebyDate_ma['Positive quantity'], width, bottom=scorebyDate_ma['Negative quantity'], color='g')\n",
    "p2 = plt.bar(scorebyDate_ma.index,scorebyDate_ma['Negative quantity'], width, color='r')\n",
    "\n",
    "plt.title('Quantity of Tweets Polarity by Date - Marília Arraes',fontsize=15)\n",
    "plt.xlabel('Period',fontsize=12)\n",
    "plt.ylabel('Quantity',fontsize=12)\n",
    "plt.legend((p1[0], p2[0]), ('Positive quantity', 'Negative quantity'),fontsize=10)"
   ]
  },
  {
   "cell_type": "markdown",
   "metadata": {},
   "source": [
    "# Mendonça Filho tweets"
   ]
  },
  {
   "cell_type": "code",
   "execution_count": 187,
   "metadata": {},
   "outputs": [
    {
     "name": "stderr",
     "output_type": "stream",
     "text": [
      "<ipython-input-187-e82129cb76ee>:4: SettingWithCopyWarning: \n",
      "A value is trying to be set on a copy of a slice from a DataFrame.\n",
      "Try using .loc[row_indexer,col_indexer] = value instead\n",
      "\n",
      "See the caveats in the documentation: https://pandas.pydata.org/pandas-docs/stable/user_guide/indexing.html#returning-a-view-versus-a-copy\n",
      "  mendoncaFilho_tweets['Created_at'] = mendoncaFilho_tweets['Created_at'].apply(lambda d: d.date())\n"
     ]
    },
    {
     "data": {
      "text/html": [
       "<div>\n",
       "<style scoped>\n",
       "    .dataframe tbody tr th:only-of-type {\n",
       "        vertical-align: middle;\n",
       "    }\n",
       "\n",
       "    .dataframe tbody tr th {\n",
       "        vertical-align: top;\n",
       "    }\n",
       "\n",
       "    .dataframe thead th {\n",
       "        text-align: right;\n",
       "    }\n",
       "</style>\n",
       "<table border=\"1\" class=\"dataframe\">\n",
       "  <thead>\n",
       "    <tr style=\"text-align: right;\">\n",
       "      <th></th>\n",
       "      <th>Username</th>\n",
       "      <th>Created_at</th>\n",
       "      <th>Text</th>\n",
       "      <th>Label</th>\n",
       "      <th>Score</th>\n",
       "    </tr>\n",
       "  </thead>\n",
       "  <tbody>\n",
       "    <tr>\n",
       "      <th>1337</th>\n",
       "      <td>mendoncafilho</td>\n",
       "      <td>2020-11-13</td>\n",
       "      <td>recife sao milhares familias pisam diariamente...</td>\n",
       "      <td>negative</td>\n",
       "      <td>-0.821362</td>\n",
       "    </tr>\n",
       "    <tr>\n",
       "      <th>1339</th>\n",
       "      <td>mendoncafilho</td>\n",
       "      <td>2020-11-13</td>\n",
       "      <td>vamos segundo turno vamos ganhar eleicoes vamo...</td>\n",
       "      <td>negative</td>\n",
       "      <td>-0.546412</td>\n",
       "    </tr>\n",
       "    <tr>\n",
       "      <th>1344</th>\n",
       "      <td>mendoncafilho</td>\n",
       "      <td>2020-11-12</td>\n",
       "      <td>alem congelar impedir reajustes vamos revisar ...</td>\n",
       "      <td>negative</td>\n",
       "      <td>-0.544704</td>\n",
       "    </tr>\n",
       "    <tr>\n",
       "      <th>1347</th>\n",
       "      <td>mendoncafilho</td>\n",
       "      <td>2020-11-12</td>\n",
       "      <td>estado maior concentracao renda brasil extrema...</td>\n",
       "      <td>negative</td>\n",
       "      <td>-0.920932</td>\n",
       "    </tr>\n",
       "    <tr>\n",
       "      <th>1348</th>\n",
       "      <td>mendoncafilho</td>\n",
       "      <td>2020-11-12</td>\n",
       "      <td>deprimente anos gestao pt psb deixem cidade le...</td>\n",
       "      <td>negative</td>\n",
       "      <td>-0.937280</td>\n",
       "    </tr>\n",
       "  </tbody>\n",
       "</table>\n",
       "</div>"
      ],
      "text/plain": [
       "           Username  Created_at  \\\n",
       "1337  mendoncafilho  2020-11-13   \n",
       "1339  mendoncafilho  2020-11-13   \n",
       "1344  mendoncafilho  2020-11-12   \n",
       "1347  mendoncafilho  2020-11-12   \n",
       "1348  mendoncafilho  2020-11-12   \n",
       "\n",
       "                                                   Text     Label     Score  \n",
       "1337  recife sao milhares familias pisam diariamente...  negative -0.821362  \n",
       "1339  vamos segundo turno vamos ganhar eleicoes vamo...  negative -0.546412  \n",
       "1344  alem congelar impedir reajustes vamos revisar ...  negative -0.544704  \n",
       "1347  estado maior concentracao renda brasil extrema...  negative -0.920932  \n",
       "1348  deprimente anos gestao pt psb deixem cidade le...  negative -0.937280  "
      ]
     },
     "execution_count": 187,
     "metadata": {},
     "output_type": "execute_result"
    }
   ],
   "source": [
    "mendoncaFilho_tweets = tweets_df[tweets_df['Username'] == 'mendoncafilho']\n",
    "\n",
    "# Datetime to Date\n",
    "mendoncaFilho_tweets['Created_at'] = mendoncaFilho_tweets['Created_at'].apply(lambda d: d.date())\n",
    "\n",
    "# Filter by Label\n",
    "mendoncaFilho_tweets = mendoncaFilho_tweets[(mendoncaFilho_tweets.Label == 'positive') | (mendoncaFilho_tweets.Label == 'negative')]\n",
    "\n",
    "mendoncaFilho_tweets.head()"
   ]
  },
  {
   "cell_type": "code",
   "execution_count": 204,
   "metadata": {},
   "outputs": [
    {
     "data": {
      "text/html": [
       "<div>\n",
       "<style scoped>\n",
       "    .dataframe tbody tr th:only-of-type {\n",
       "        vertical-align: middle;\n",
       "    }\n",
       "\n",
       "    .dataframe tbody tr th {\n",
       "        vertical-align: top;\n",
       "    }\n",
       "\n",
       "    .dataframe thead th {\n",
       "        text-align: right;\n",
       "    }\n",
       "</style>\n",
       "<table border=\"1\" class=\"dataframe\">\n",
       "  <thead>\n",
       "    <tr style=\"text-align: right;\">\n",
       "      <th></th>\n",
       "      <th>Score</th>\n",
       "      <th>Positive</th>\n",
       "      <th>Negative</th>\n",
       "      <th>Positive quantity</th>\n",
       "      <th>Negative quantity</th>\n",
       "      <th>Positive mean</th>\n",
       "      <th>Negative mean</th>\n",
       "    </tr>\n",
       "    <tr>\n",
       "      <th>Created_at</th>\n",
       "      <th></th>\n",
       "      <th></th>\n",
       "      <th></th>\n",
       "      <th></th>\n",
       "      <th></th>\n",
       "      <th></th>\n",
       "      <th></th>\n",
       "    </tr>\n",
       "  </thead>\n",
       "  <tbody>\n",
       "    <tr>\n",
       "      <th>2020-09-27</th>\n",
       "      <td>[-0.837548, -0.902412]</td>\n",
       "      <td>[]</td>\n",
       "      <td>[-0.837548, -0.902412]</td>\n",
       "      <td>0</td>\n",
       "      <td>-2</td>\n",
       "      <td>0.000000</td>\n",
       "      <td>-0.869980</td>\n",
       "    </tr>\n",
       "    <tr>\n",
       "      <th>2020-09-29</th>\n",
       "      <td>[-0.598734, -0.69844]</td>\n",
       "      <td>[]</td>\n",
       "      <td>[-0.598734, -0.69844]</td>\n",
       "      <td>0</td>\n",
       "      <td>-2</td>\n",
       "      <td>0.000000</td>\n",
       "      <td>-0.648587</td>\n",
       "    </tr>\n",
       "    <tr>\n",
       "      <th>2020-09-30</th>\n",
       "      <td>[-0.891428, -0.984585, 0.854082, -0.522783]</td>\n",
       "      <td>[0.854082]</td>\n",
       "      <td>[-0.891428, -0.984585, -0.522783]</td>\n",
       "      <td>1</td>\n",
       "      <td>-3</td>\n",
       "      <td>0.854082</td>\n",
       "      <td>-0.799599</td>\n",
       "    </tr>\n",
       "    <tr>\n",
       "      <th>2020-10-01</th>\n",
       "      <td>[-0.830606, 0.784298, 0.905184, -0.795009, 0.4...</td>\n",
       "      <td>[0.784298, 0.905184, 0.413689, 0.940799, 0.687...</td>\n",
       "      <td>[-0.830606, -0.795009]</td>\n",
       "      <td>9</td>\n",
       "      <td>-2</td>\n",
       "      <td>0.783558</td>\n",
       "      <td>-0.812807</td>\n",
       "    </tr>\n",
       "    <tr>\n",
       "      <th>2020-10-02</th>\n",
       "      <td>[0.922626, 0.652774, 0.416948, -0.990732]</td>\n",
       "      <td>[0.922626, 0.652774, 0.416948]</td>\n",
       "      <td>[-0.990732]</td>\n",
       "      <td>3</td>\n",
       "      <td>-1</td>\n",
       "      <td>0.664116</td>\n",
       "      <td>-0.990732</td>\n",
       "    </tr>\n",
       "  </tbody>\n",
       "</table>\n",
       "</div>"
      ],
      "text/plain": [
       "                                                        Score  \\\n",
       "Created_at                                                      \n",
       "2020-09-27                             [-0.837548, -0.902412]   \n",
       "2020-09-29                              [-0.598734, -0.69844]   \n",
       "2020-09-30        [-0.891428, -0.984585, 0.854082, -0.522783]   \n",
       "2020-10-01  [-0.830606, 0.784298, 0.905184, -0.795009, 0.4...   \n",
       "2020-10-02          [0.922626, 0.652774, 0.416948, -0.990732]   \n",
       "\n",
       "                                                     Positive  \\\n",
       "Created_at                                                      \n",
       "2020-09-27                                                 []   \n",
       "2020-09-29                                                 []   \n",
       "2020-09-30                                         [0.854082]   \n",
       "2020-10-01  [0.784298, 0.905184, 0.413689, 0.940799, 0.687...   \n",
       "2020-10-02                     [0.922626, 0.652774, 0.416948]   \n",
       "\n",
       "                                     Negative  Positive quantity  \\\n",
       "Created_at                                                         \n",
       "2020-09-27             [-0.837548, -0.902412]                  0   \n",
       "2020-09-29              [-0.598734, -0.69844]                  0   \n",
       "2020-09-30  [-0.891428, -0.984585, -0.522783]                  1   \n",
       "2020-10-01             [-0.830606, -0.795009]                  9   \n",
       "2020-10-02                        [-0.990732]                  3   \n",
       "\n",
       "            Negative quantity  Positive mean  Negative mean  \n",
       "Created_at                                                   \n",
       "2020-09-27                 -2       0.000000      -0.869980  \n",
       "2020-09-29                 -2       0.000000      -0.648587  \n",
       "2020-09-30                 -3       0.854082      -0.799599  \n",
       "2020-10-01                 -2       0.783558      -0.812807  \n",
       "2020-10-02                 -1       0.664116      -0.990732  "
      ]
     },
     "execution_count": 204,
     "metadata": {},
     "output_type": "execute_result"
    }
   ],
   "source": [
    "scorebyDate_mf = mendoncaFilho_tweets.groupby(by=['Created_at'])['Score'].apply(list).to_frame()\n",
    "\n",
    "scorebyDate_mf['Positive'] = scorebyDate_mf['Score'].apply(lambda s: [score for score in s if score > 0])\n",
    "scorebyDate_mf['Negative'] = scorebyDate_mf['Score'].apply(lambda s: [score for score in s if score < 0])\n",
    "\n",
    "scorebyDate_mf['Positive quantity'] = scorebyDate_mf['Positive'].apply(lambda s: len(s))\n",
    "scorebyDate_mf['Negative quantity'] = scorebyDate_mf['Negative'].apply(lambda s: len(s) * -1)\n",
    "\n",
    "scorebyDate_mf['Positive mean'] = scorebyDate_mf['Positive'].apply(lambda s: 0 if s == [] else statistics.mean(s))\n",
    "scorebyDate_mf['Negative mean'] = scorebyDate_mf['Negative'].apply(lambda s: 0 if s == [] else statistics.mean(s))\n",
    "\n",
    "scorebyDate_mf.head()"
   ]
  },
  {
   "cell_type": "code",
   "execution_count": 205,
   "metadata": {},
   "outputs": [
    {
     "data": {
      "text/plain": [
       "<matplotlib.legend.Legend at 0x2895eaefeb0>"
      ]
     },
     "execution_count": 205,
     "metadata": {},
     "output_type": "execute_result"
    },
    {
     "data": {
      "image/png": "[encoded data removed]",
      "text/plain": [
       "<Figure size 720x720 with 1 Axes>"
      ]
     },
     "metadata": {
      "needs_background": "light"
     },
     "output_type": "display_data"
    }
   ],
   "source": [
    "fig, ax = plt.subplots(figsize=(10,10))\n",
    "width = 0.50 \n",
    "\n",
    "p1 = plt.bar(scorebyDate_mf.index,scorebyDate_mf['Positive mean'], width, bottom=scorebyDate_mf['Negative mean'], color='g')\n",
    "p2 = plt.bar(scorebyDate_mf.index,scorebyDate_mf['Negative mean'], width, color='r')\n",
    "\n",
    "plt.title('Avarage Tweets Polarity by Date - Mendonça Filho',fontsize=15)\n",
    "plt.xlabel('Period',fontsize=12)\n",
    "plt.ylabel('Score',fontsize=12)\n",
    "plt.legend((p1[0], p2[0]), ('Positive mean', 'Negative mean'),fontsize=10)"
   ]
  },
  {
   "cell_type": "code",
   "execution_count": 206,
   "metadata": {},
   "outputs": [
    {
     "data": {
      "text/plain": [
       "<matplotlib.legend.Legend at 0x2895ebf8e20>"
      ]
     },
     "execution_count": 206,
     "metadata": {},
     "output_type": "execute_result"
    },
    {
     "data": {
      "image/png": "[encoded data removed]",
      "text/plain": [
       "<Figure size 720x720 with 1 Axes>"
      ]
     },
     "metadata": {
      "needs_background": "light"
     },
     "output_type": "display_data"
    }
   ],
   "source": [
    "fig, ax = plt.subplots(figsize=(10,10))\n",
    "width = 0.50 \n",
    "\n",
    "p1 = plt.bar(scorebyDate_mf.index,scorebyDate_mf['Positive quantity'], width, bottom=scorebyDate_mf['Negative quantity'], color='g')\n",
    "p2 = plt.bar(scorebyDate_mf.index,scorebyDate_mf['Negative quantity'], width, color='r')\n",
    "\n",
    "plt.title('Quantity of Tweets Polarity by Date - Mendonça Filho',fontsize=15)\n",
    "plt.xlabel('Period',fontsize=12)\n",
    "plt.ylabel('Quantity',fontsize=12)\n",
    "plt.legend((p1[0], p2[0]), ('Positive quantity', 'Negative quantity'),fontsize=10)"
   ]
  }
 ],
 "metadata": {
  "kernelspec": {
   "display_name": "Python 3",
   "language": "python",
   "name": "python3"
  },
  "language_info": {
   "codemirror_mode": {
    "name": "ipython",
    "version": 3
   },
   "file_extension": ".py",
   "mimetype": "text/x-python",
   "name": "python",
   "nbconvert_exporter": "python",
   "pygments_lexer": "ipython3",
   "version": "3.8.3"
  }
 },
 "nbformat": 4,
 "nbformat_minor": 4
}
