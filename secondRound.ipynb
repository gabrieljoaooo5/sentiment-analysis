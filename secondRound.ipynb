{
 "cells": [
  {
   "cell_type": "markdown",
   "metadata": {},
   "source": [
    "# Imports"
   ]
  },
  {
   "cell_type": "code",
   "execution_count": 1,
   "metadata": {},
   "outputs": [],
   "source": [
    "from ibm_watson import NaturalLanguageUnderstandingV1\n",
    "from ibm_cloud_sdk_core.authenticators import IAMAuthenticator\n",
    "from ibm_watson.natural_language_understanding_v1 import Features, SentimentOptions\n",
    "import json\n",
    "import pandas as pd\n",
    "import datetime\n",
    "import pathlib\n",
    "import time\n",
    "import numpy as np\n",
    "import statistics\n",
    "import matplotlib.pyplot as plt"
   ]
  },
  {
   "cell_type": "markdown",
   "metadata": {},
   "source": [
    "# Credentials and Authorization"
   ]
  },
  {
   "cell_type": "code",
   "execution_count": 4,
   "metadata": {},
   "outputs": [
    {
     "data": {
      "text/html": [
       "<div>\n",
       "<style scoped>\n",
       "    .dataframe tbody tr th:only-of-type {\n",
       "        vertical-align: middle;\n",
       "    }\n",
       "\n",
       "    .dataframe tbody tr th {\n",
       "        vertical-align: top;\n",
       "    }\n",
       "\n",
       "    .dataframe thead th {\n",
       "        text-align: right;\n",
       "    }\n",
       "</style>\n",
       "<table border=\"1\" class=\"dataframe\">\n",
       "  <thead>\n",
       "    <tr style=\"text-align: right;\">\n",
       "      <th></th>\n",
       "      <th>Username</th>\n",
       "      <th>Created_at</th>\n",
       "      <th>Text</th>\n",
       "    </tr>\n",
       "  </thead>\n",
       "  <tbody>\n",
       "    <tr>\n",
       "      <th>0</th>\n",
       "      <td>JoaoCampos</td>\n",
       "      <td>2020-11-27 22:47:12</td>\n",
       "      <td>vamo fazer recife avancar</td>\n",
       "    </tr>\n",
       "    <tr>\n",
       "      <th>1</th>\n",
       "      <td>JoaoCampos</td>\n",
       "      <td>2020-11-27 22:46:09</td>\n",
       "      <td>tamo junto</td>\n",
       "    </tr>\n",
       "    <tr>\n",
       "      <th>2</th>\n",
       "      <td>JoaoCampos</td>\n",
       "      <td>2020-11-27 22:43:21</td>\n",
       "      <td>rt ta chegando hora recife precisa continuar a...</td>\n",
       "    </tr>\n",
       "    <tr>\n",
       "      <th>3</th>\n",
       "      <td>JoaoCampos</td>\n",
       "      <td>2020-11-27 22:33:03</td>\n",
       "      <td>voce digita urnas confirma vamos construir mui...</td>\n",
       "    </tr>\n",
       "    <tr>\n",
       "      <th>4</th>\n",
       "      <td>JoaoCampos</td>\n",
       "      <td>2020-11-27 21:18:21</td>\n",
       "      <td>cenario pos pandemia desafiador precisamos pro...</td>\n",
       "    </tr>\n",
       "  </tbody>\n",
       "</table>\n",
       "</div>"
      ],
      "text/plain": [
       "     Username           Created_at  \\\n",
       "0  JoaoCampos  2020-11-27 22:47:12   \n",
       "1  JoaoCampos  2020-11-27 22:46:09   \n",
       "2  JoaoCampos  2020-11-27 22:43:21   \n",
       "3  JoaoCampos  2020-11-27 22:33:03   \n",
       "4  JoaoCampos  2020-11-27 21:18:21   \n",
       "\n",
       "                                                Text  \n",
       "0                          vamo fazer recife avancar  \n",
       "1                                         tamo junto  \n",
       "2  rt ta chegando hora recife precisa continuar a...  \n",
       "3  voce digita urnas confirma vamos construir mui...  \n",
       "4  cenario pos pandemia desafiador precisamos pro...  "
      ]
     },
     "execution_count": 4,
     "metadata": {},
     "output_type": "execute_result"
    }
   ],
   "source": [
    "with open(\"credentials.json\", 'r') as jsonfile:\n",
    "    credentials = json.load(jsonfile)['ibm-watson']\n",
    "\n",
    "authenticator = IAMAuthenticator(credentials['api-key'])\n",
    "natural_language_understanding = NaturalLanguageUnderstandingV1(\n",
    "    version=credentials['version'],\n",
    "    authenticator=authenticator\n",
    ")\n",
    "natural_language_understanding.set_service_url(credentials['url'])\n",
    "\n",
    "tweets_df = pd.read_csv(str(pathlib.Path().absolute()) + '\\\\datasets\\\\secondRound.csv')\n",
    "tweets_df.head()"
   ]
  },
  {
   "cell_type": "markdown",
   "metadata": {},
   "source": [
    "# Sentiment Analysis"
   ]
  },
  {
   "cell_type": "code",
   "execution_count": 5,
   "metadata": {},
   "outputs": [],
   "source": [
    "def analyseSentiment(text):\n",
    "    response = natural_language_understanding.analyze(\n",
    "    text=text,\n",
    "    language = 'pt',\n",
    "    features=Features(sentiment=SentimentOptions(document=True))).get_result()\n",
    "    return (response['sentiment']['document']['label'],response['sentiment']['document']['score'])\n"
   ]
  },
  {
   "cell_type": "code",
   "execution_count": 8,
   "metadata": {},
   "outputs": [
    {
     "data": {
      "text/html": [
       "<div>\n",
       "<style scoped>\n",
       "    .dataframe tbody tr th:only-of-type {\n",
       "        vertical-align: middle;\n",
       "    }\n",
       "\n",
       "    .dataframe tbody tr th {\n",
       "        vertical-align: top;\n",
       "    }\n",
       "\n",
       "    .dataframe thead th {\n",
       "        text-align: right;\n",
       "    }\n",
       "</style>\n",
       "<table border=\"1\" class=\"dataframe\">\n",
       "  <thead>\n",
       "    <tr style=\"text-align: right;\">\n",
       "      <th></th>\n",
       "      <th>Username</th>\n",
       "      <th>Created_at</th>\n",
       "      <th>Text</th>\n",
       "      <th>Label</th>\n",
       "      <th>Score</th>\n",
       "    </tr>\n",
       "  </thead>\n",
       "  <tbody>\n",
       "    <tr>\n",
       "      <th>0</th>\n",
       "      <td>JoaoCampos</td>\n",
       "      <td>2020-11-27 22:47:12</td>\n",
       "      <td>vamo fazer recife avancar</td>\n",
       "      <td>positive</td>\n",
       "      <td>0.479956</td>\n",
       "    </tr>\n",
       "    <tr>\n",
       "      <th>1</th>\n",
       "      <td>JoaoCampos</td>\n",
       "      <td>2020-11-27 22:46:09</td>\n",
       "      <td>tamo junto</td>\n",
       "      <td>positive</td>\n",
       "      <td>0.886086</td>\n",
       "    </tr>\n",
       "    <tr>\n",
       "      <th>2</th>\n",
       "      <td>JoaoCampos</td>\n",
       "      <td>2020-11-27 22:43:21</td>\n",
       "      <td>rt ta chegando hora recife precisa continuar a...</td>\n",
       "      <td>positive</td>\n",
       "      <td>0.891505</td>\n",
       "    </tr>\n",
       "    <tr>\n",
       "      <th>3</th>\n",
       "      <td>JoaoCampos</td>\n",
       "      <td>2020-11-27 22:33:03</td>\n",
       "      <td>voce digita urnas confirma vamos construir mui...</td>\n",
       "      <td>neutral</td>\n",
       "      <td>0.000000</td>\n",
       "    </tr>\n",
       "    <tr>\n",
       "      <th>4</th>\n",
       "      <td>JoaoCampos</td>\n",
       "      <td>2020-11-27 21:18:21</td>\n",
       "      <td>cenario pos pandemia desafiador precisamos pro...</td>\n",
       "      <td>negative</td>\n",
       "      <td>-0.500568</td>\n",
       "    </tr>\n",
       "  </tbody>\n",
       "</table>\n",
       "</div>"
      ],
      "text/plain": [
       "     Username           Created_at  \\\n",
       "0  JoaoCampos  2020-11-27 22:47:12   \n",
       "1  JoaoCampos  2020-11-27 22:46:09   \n",
       "2  JoaoCampos  2020-11-27 22:43:21   \n",
       "3  JoaoCampos  2020-11-27 22:33:03   \n",
       "4  JoaoCampos  2020-11-27 21:18:21   \n",
       "\n",
       "                                                Text     Label     Score  \n",
       "0                          vamo fazer recife avancar  positive  0.479956  \n",
       "1                                         tamo junto  positive  0.886086  \n",
       "2  rt ta chegando hora recife precisa continuar a...  positive  0.891505  \n",
       "3  voce digita urnas confirma vamos construir mui...   neutral  0.000000  \n",
       "4  cenario pos pandemia desafiador precisamos pro...  negative -0.500568  "
      ]
     },
     "execution_count": 8,
     "metadata": {},
     "output_type": "execute_result"
    }
   ],
   "source": [
    "label = []\n",
    "score = []\n",
    "for t in tweets_df.Text:\n",
    "    result = analyseSentiment(t)\n",
    "    label.append(result[0])\n",
    "    score.append(result[1])\n",
    "    \n",
    "tweets_df['Label'] = label\n",
    "tweets_df['Score'] = score\n",
    "\n",
    "tweets_df.head()"
   ]
  },
  {
   "cell_type": "markdown",
   "metadata": {},
   "source": [
    "# Generate CSV - Second Round with Sentiment Analysis"
   ]
  },
  {
   "cell_type": "code",
   "execution_count": 9,
   "metadata": {},
   "outputs": [],
   "source": [
    "tweets_df['Created_at'] = tweets_df['Created_at'].apply(lambda d: datetime.datetime.strptime(d, '%Y-%m-%d %H:%M:%S'))\n",
    "tweets_df.to_csv(str(pathlib.Path().absolute()) + '\\\\datasets\\\\secondRoundWithSA.csv', index=False)"
   ]
  },
  {
   "cell_type": "markdown",
   "metadata": {},
   "source": [
    "# João Campos tweets"
   ]
  },
  {
   "cell_type": "code",
   "execution_count": 10,
   "metadata": {},
   "outputs": [
    {
     "name": "stderr",
     "output_type": "stream",
     "text": [
      "<ipython-input-10-c17fccfeaf4c>:4: SettingWithCopyWarning: \n",
      "A value is trying to be set on a copy of a slice from a DataFrame.\n",
      "Try using .loc[row_indexer,col_indexer] = value instead\n",
      "\n",
      "See the caveats in the documentation: https://pandas.pydata.org/pandas-docs/stable/user_guide/indexing.html#returning-a-view-versus-a-copy\n",
      "  joaoCampos_tweets['Created_at'] = joaoCampos_tweets['Created_at'].apply(lambda d: d.date())\n"
     ]
    },
    {
     "data": {
      "text/html": [
       "<div>\n",
       "<style scoped>\n",
       "    .dataframe tbody tr th:only-of-type {\n",
       "        vertical-align: middle;\n",
       "    }\n",
       "\n",
       "    .dataframe tbody tr th {\n",
       "        vertical-align: top;\n",
       "    }\n",
       "\n",
       "    .dataframe thead th {\n",
       "        text-align: right;\n",
       "    }\n",
       "</style>\n",
       "<table border=\"1\" class=\"dataframe\">\n",
       "  <thead>\n",
       "    <tr style=\"text-align: right;\">\n",
       "      <th></th>\n",
       "      <th>Username</th>\n",
       "      <th>Created_at</th>\n",
       "      <th>Text</th>\n",
       "      <th>Label</th>\n",
       "      <th>Score</th>\n",
       "    </tr>\n",
       "  </thead>\n",
       "  <tbody>\n",
       "    <tr>\n",
       "      <th>0</th>\n",
       "      <td>JoaoCampos</td>\n",
       "      <td>2020-11-27</td>\n",
       "      <td>vamo fazer recife avancar</td>\n",
       "      <td>positive</td>\n",
       "      <td>0.479956</td>\n",
       "    </tr>\n",
       "    <tr>\n",
       "      <th>1</th>\n",
       "      <td>JoaoCampos</td>\n",
       "      <td>2020-11-27</td>\n",
       "      <td>tamo junto</td>\n",
       "      <td>positive</td>\n",
       "      <td>0.886086</td>\n",
       "    </tr>\n",
       "    <tr>\n",
       "      <th>2</th>\n",
       "      <td>JoaoCampos</td>\n",
       "      <td>2020-11-27</td>\n",
       "      <td>rt ta chegando hora recife precisa continuar a...</td>\n",
       "      <td>positive</td>\n",
       "      <td>0.891505</td>\n",
       "    </tr>\n",
       "    <tr>\n",
       "      <th>4</th>\n",
       "      <td>JoaoCampos</td>\n",
       "      <td>2020-11-27</td>\n",
       "      <td>cenario pos pandemia desafiador precisamos pro...</td>\n",
       "      <td>negative</td>\n",
       "      <td>-0.500568</td>\n",
       "    </tr>\n",
       "    <tr>\n",
       "      <th>7</th>\n",
       "      <td>JoaoCampos</td>\n",
       "      <td>2020-11-27</td>\n",
       "      <td>obrigado fazer parte desta caminhada propostas r</td>\n",
       "      <td>positive</td>\n",
       "      <td>0.839666</td>\n",
       "    </tr>\n",
       "  </tbody>\n",
       "</table>\n",
       "</div>"
      ],
      "text/plain": [
       "     Username  Created_at                                               Text  \\\n",
       "0  JoaoCampos  2020-11-27                          vamo fazer recife avancar   \n",
       "1  JoaoCampos  2020-11-27                                         tamo junto   \n",
       "2  JoaoCampos  2020-11-27  rt ta chegando hora recife precisa continuar a...   \n",
       "4  JoaoCampos  2020-11-27  cenario pos pandemia desafiador precisamos pro...   \n",
       "7  JoaoCampos  2020-11-27   obrigado fazer parte desta caminhada propostas r   \n",
       "\n",
       "      Label     Score  \n",
       "0  positive  0.479956  \n",
       "1  positive  0.886086  \n",
       "2  positive  0.891505  \n",
       "4  negative -0.500568  \n",
       "7  positive  0.839666  "
      ]
     },
     "execution_count": 10,
     "metadata": {},
     "output_type": "execute_result"
    }
   ],
   "source": [
    "joaoCampos_tweets = tweets_df[tweets_df['Username'] == 'JoaoCampos']\n",
    "\n",
    "# Datetime to Date\n",
    "joaoCampos_tweets['Created_at'] = joaoCampos_tweets['Created_at'].apply(lambda d: d.date())\n",
    "\n",
    "# Filter by Label\n",
    "joaoCampos_tweets = joaoCampos_tweets[(joaoCampos_tweets.Label == 'positive') | (joaoCampos_tweets.Label == 'negative')]\n",
    "\n",
    "joaoCampos_tweets.head()"
   ]
  },
  {
   "cell_type": "code",
   "execution_count": 11,
   "metadata": {},
   "outputs": [
    {
     "data": {
      "text/html": [
       "<div>\n",
       "<style scoped>\n",
       "    .dataframe tbody tr th:only-of-type {\n",
       "        vertical-align: middle;\n",
       "    }\n",
       "\n",
       "    .dataframe tbody tr th {\n",
       "        vertical-align: top;\n",
       "    }\n",
       "\n",
       "    .dataframe thead th {\n",
       "        text-align: right;\n",
       "    }\n",
       "</style>\n",
       "<table border=\"1\" class=\"dataframe\">\n",
       "  <thead>\n",
       "    <tr style=\"text-align: right;\">\n",
       "      <th></th>\n",
       "      <th>Score</th>\n",
       "      <th>Positive</th>\n",
       "      <th>Negative</th>\n",
       "      <th>Positive quantity</th>\n",
       "      <th>Negative quantity</th>\n",
       "      <th>Positive mean</th>\n",
       "      <th>Negative mean</th>\n",
       "    </tr>\n",
       "    <tr>\n",
       "      <th>Created_at</th>\n",
       "      <th></th>\n",
       "      <th></th>\n",
       "      <th></th>\n",
       "      <th></th>\n",
       "      <th></th>\n",
       "      <th></th>\n",
       "      <th></th>\n",
       "    </tr>\n",
       "  </thead>\n",
       "  <tbody>\n",
       "    <tr>\n",
       "      <th>2020-11-16</th>\n",
       "      <td>[0.706929, 0.935005, 0.706929]</td>\n",
       "      <td>[0.706929, 0.935005, 0.706929]</td>\n",
       "      <td>[]</td>\n",
       "      <td>3</td>\n",
       "      <td>0</td>\n",
       "      <td>0.782954</td>\n",
       "      <td>0.000000</td>\n",
       "    </tr>\n",
       "    <tr>\n",
       "      <th>2020-11-18</th>\n",
       "      <td>[0.856378]</td>\n",
       "      <td>[0.856378]</td>\n",
       "      <td>[]</td>\n",
       "      <td>1</td>\n",
       "      <td>0</td>\n",
       "      <td>0.856378</td>\n",
       "      <td>0.000000</td>\n",
       "    </tr>\n",
       "    <tr>\n",
       "      <th>2020-11-19</th>\n",
       "      <td>[-0.786025, -0.868275, 0.686636, -0.747732, -0...</td>\n",
       "      <td>[0.686636, 0.807233]</td>\n",
       "      <td>[-0.786025, -0.868275, -0.747732, -0.877922]</td>\n",
       "      <td>2</td>\n",
       "      <td>-4</td>\n",
       "      <td>0.746935</td>\n",
       "      <td>-0.819989</td>\n",
       "    </tr>\n",
       "    <tr>\n",
       "      <th>2020-11-20</th>\n",
       "      <td>[0.650766, -0.361763, -0.609612, -0.862941, 0....</td>\n",
       "      <td>[0.650766, 0.425633, 0.639106, 0.460162]</td>\n",
       "      <td>[-0.361763, -0.609612, -0.862941, -0.632062, -...</td>\n",
       "      <td>4</td>\n",
       "      <td>-7</td>\n",
       "      <td>0.543917</td>\n",
       "      <td>-0.669514</td>\n",
       "    </tr>\n",
       "    <tr>\n",
       "      <th>2020-11-21</th>\n",
       "      <td>[-0.658573]</td>\n",
       "      <td>[]</td>\n",
       "      <td>[-0.658573]</td>\n",
       "      <td>0</td>\n",
       "      <td>-1</td>\n",
       "      <td>0.000000</td>\n",
       "      <td>-0.658573</td>\n",
       "    </tr>\n",
       "  </tbody>\n",
       "</table>\n",
       "</div>"
      ],
      "text/plain": [
       "                                                        Score  \\\n",
       "Created_at                                                      \n",
       "2020-11-16                     [0.706929, 0.935005, 0.706929]   \n",
       "2020-11-18                                         [0.856378]   \n",
       "2020-11-19  [-0.786025, -0.868275, 0.686636, -0.747732, -0...   \n",
       "2020-11-20  [0.650766, -0.361763, -0.609612, -0.862941, 0....   \n",
       "2020-11-21                                        [-0.658573]   \n",
       "\n",
       "                                            Positive  \\\n",
       "Created_at                                             \n",
       "2020-11-16            [0.706929, 0.935005, 0.706929]   \n",
       "2020-11-18                                [0.856378]   \n",
       "2020-11-19                      [0.686636, 0.807233]   \n",
       "2020-11-20  [0.650766, 0.425633, 0.639106, 0.460162]   \n",
       "2020-11-21                                        []   \n",
       "\n",
       "                                                     Negative  \\\n",
       "Created_at                                                      \n",
       "2020-11-16                                                 []   \n",
       "2020-11-18                                                 []   \n",
       "2020-11-19       [-0.786025, -0.868275, -0.747732, -0.877922]   \n",
       "2020-11-20  [-0.361763, -0.609612, -0.862941, -0.632062, -...   \n",
       "2020-11-21                                        [-0.658573]   \n",
       "\n",
       "            Positive quantity  Negative quantity  Positive mean  Negative mean  \n",
       "Created_at                                                                      \n",
       "2020-11-16                  3                  0       0.782954       0.000000  \n",
       "2020-11-18                  1                  0       0.856378       0.000000  \n",
       "2020-11-19                  2                 -4       0.746935      -0.819989  \n",
       "2020-11-20                  4                 -7       0.543917      -0.669514  \n",
       "2020-11-21                  0                 -1       0.000000      -0.658573  "
      ]
     },
     "execution_count": 11,
     "metadata": {},
     "output_type": "execute_result"
    }
   ],
   "source": [
    "scorebyDate_jc = joaoCampos_tweets.groupby(by=['Created_at'])['Score'].apply(list).to_frame()\n",
    "\n",
    "scorebyDate_jc['Positive'] = scorebyDate_jc['Score'].apply(lambda s: [score for score in s if score > 0])\n",
    "scorebyDate_jc['Negative'] = scorebyDate_jc['Score'].apply(lambda s: [score for score in s if score < 0])\n",
    "\n",
    "scorebyDate_jc['Positive quantity'] = scorebyDate_jc['Positive'].apply(lambda s: len(s))\n",
    "scorebyDate_jc['Negative quantity'] = scorebyDate_jc['Negative'].apply(lambda s: len(s) * -1)\n",
    "\n",
    "scorebyDate_jc['Positive mean'] = scorebyDate_jc['Positive'].apply(lambda s: 0 if s == [] else statistics.mean(s))\n",
    "scorebyDate_jc['Negative mean'] = scorebyDate_jc['Negative'].apply(lambda s: 0 if s == [] else statistics.mean(s))\n",
    "\n",
    "scorebyDate_jc.head()"
   ]
  },
  {
   "cell_type": "code",
   "execution_count": 12,
   "metadata": {},
   "outputs": [
    {
     "data": {
      "text/plain": [
       "<matplotlib.legend.Legend at 0x1ecdb27c070>"
      ]
     },
     "execution_count": 12,
     "metadata": {},
     "output_type": "execute_result"
    },
    {
     "data": {
      "image/png": "[encoded data removed]",
      "text/plain": [
       "<Figure size 720x720 with 1 Axes>"
      ]
     },
     "metadata": {
      "needs_background": "light"
     },
     "output_type": "display_data"
    }
   ],
   "source": [
    "fig, ax = plt.subplots(figsize=(10,10))\n",
    "width = 0.50 \n",
    "\n",
    "p1 = plt.bar(scorebyDate_jc.index,scorebyDate_jc['Positive mean'], width, bottom=scorebyDate_jc['Negative mean'], color='g')\n",
    "p2 = plt.bar(scorebyDate_jc.index,scorebyDate_jc['Negative mean'], width, color='r')\n",
    "\n",
    "plt.title('Avarage Tweets Polarity by Date - Joao Campos',fontsize=15)\n",
    "plt.xlabel('Period',fontsize=12)\n",
    "plt.ylabel('Score',fontsize=12)\n",
    "plt.legend((p1[0], p2[0]), ('Positive mean', 'Negative mean'),fontsize=10)"
   ]
  },
  {
   "cell_type": "code",
   "execution_count": 13,
   "metadata": {},
   "outputs": [
    {
     "data": {
      "text/plain": [
       "<matplotlib.legend.Legend at 0x1ecdb5923a0>"
      ]
     },
     "execution_count": 13,
     "metadata": {},
     "output_type": "execute_result"
    },
    {
     "data": {
      "image/png": "[encoded data removed]",
      "text/plain": [
       "<Figure size 720x720 with 1 Axes>"
      ]
     },
     "metadata": {
      "needs_background": "light"
     },
     "output_type": "display_data"
    }
   ],
   "source": [
    "fig, ax = plt.subplots(figsize=(10,10))\n",
    "width = 0.50 \n",
    "\n",
    "p1 = plt.bar(scorebyDate_jc.index,scorebyDate_jc['Positive quantity'], width, bottom=scorebyDate_jc['Negative quantity'], color='g')\n",
    "p2 = plt.bar(scorebyDate_jc.index,scorebyDate_jc['Negative quantity'], width, color='r')\n",
    "\n",
    "plt.title('Quantity of Tweets Polarity by Date - João Campos',fontsize=15)\n",
    "plt.xlabel('Period',fontsize=12)\n",
    "plt.ylabel('Quantity',fontsize=12)\n",
    "plt.legend((p1[0], p2[0]), ('Positive quantity', 'Negative quantity'),fontsize=10)"
   ]
  },
  {
   "cell_type": "markdown",
   "metadata": {},
   "source": [
    "# Marília Arraes tweets"
   ]
  },
  {
   "cell_type": "code",
   "execution_count": 14,
   "metadata": {},
   "outputs": [
    {
     "name": "stderr",
     "output_type": "stream",
     "text": [
      "<ipython-input-14-9474c8b21488>:4: SettingWithCopyWarning: \n",
      "A value is trying to be set on a copy of a slice from a DataFrame.\n",
      "Try using .loc[row_indexer,col_indexer] = value instead\n",
      "\n",
      "See the caveats in the documentation: https://pandas.pydata.org/pandas-docs/stable/user_guide/indexing.html#returning-a-view-versus-a-copy\n",
      "  mariliaArraes_tweets['Created_at'] = mariliaArraes_tweets['Created_at'].apply(lambda d: d.date())\n"
     ]
    },
    {
     "data": {
      "text/html": [
       "<div>\n",
       "<style scoped>\n",
       "    .dataframe tbody tr th:only-of-type {\n",
       "        vertical-align: middle;\n",
       "    }\n",
       "\n",
       "    .dataframe tbody tr th {\n",
       "        vertical-align: top;\n",
       "    }\n",
       "\n",
       "    .dataframe thead th {\n",
       "        text-align: right;\n",
       "    }\n",
       "</style>\n",
       "<table border=\"1\" class=\"dataframe\">\n",
       "  <thead>\n",
       "    <tr style=\"text-align: right;\">\n",
       "      <th></th>\n",
       "      <th>Username</th>\n",
       "      <th>Created_at</th>\n",
       "      <th>Text</th>\n",
       "      <th>Label</th>\n",
       "      <th>Score</th>\n",
       "    </tr>\n",
       "  </thead>\n",
       "  <tbody>\n",
       "    <tr>\n",
       "      <th>137</th>\n",
       "      <td>MariliaArraes</td>\n",
       "      <td>2020-11-27</td>\n",
       "      <td>rt tum tum tum</td>\n",
       "      <td>positive</td>\n",
       "      <td>0.969534</td>\n",
       "    </tr>\n",
       "    <tr>\n",
       "      <th>138</th>\n",
       "      <td>MariliaArraes</td>\n",
       "      <td>2020-11-27</td>\n",
       "      <td>rt eleicao deste domingo pode melhorar cidade ...</td>\n",
       "      <td>negative</td>\n",
       "      <td>-0.411265</td>\n",
       "    </tr>\n",
       "    <tr>\n",
       "      <th>140</th>\n",
       "      <td>MariliaArraes</td>\n",
       "      <td>2020-11-27</td>\n",
       "      <td>gente ta chegando perto hora comemorar vitoria...</td>\n",
       "      <td>positive</td>\n",
       "      <td>0.908484</td>\n",
       "    </tr>\n",
       "    <tr>\n",
       "      <th>142</th>\n",
       "      <td>MariliaArraes</td>\n",
       "      <td>2020-11-27</td>\n",
       "      <td>tao lindo ver onda vermelha tomando cidade cad...</td>\n",
       "      <td>positive</td>\n",
       "      <td>0.824994</td>\n",
       "    </tr>\n",
       "    <tr>\n",
       "      <th>143</th>\n",
       "      <td>MariliaArraes</td>\n",
       "      <td>2020-11-27</td>\n",
       "      <td>ta certissimo</td>\n",
       "      <td>negative</td>\n",
       "      <td>-0.622446</td>\n",
       "    </tr>\n",
       "  </tbody>\n",
       "</table>\n",
       "</div>"
      ],
      "text/plain": [
       "          Username  Created_at  \\\n",
       "137  MariliaArraes  2020-11-27   \n",
       "138  MariliaArraes  2020-11-27   \n",
       "140  MariliaArraes  2020-11-27   \n",
       "142  MariliaArraes  2020-11-27   \n",
       "143  MariliaArraes  2020-11-27   \n",
       "\n",
       "                                                  Text     Label     Score  \n",
       "137                                     rt tum tum tum  positive  0.969534  \n",
       "138  rt eleicao deste domingo pode melhorar cidade ...  negative -0.411265  \n",
       "140  gente ta chegando perto hora comemorar vitoria...  positive  0.908484  \n",
       "142  tao lindo ver onda vermelha tomando cidade cad...  positive  0.824994  \n",
       "143                                      ta certissimo  negative -0.622446  "
      ]
     },
     "execution_count": 14,
     "metadata": {},
     "output_type": "execute_result"
    }
   ],
   "source": [
    "mariliaArraes_tweets = tweets_df[tweets_df['Username'] == 'MariliaArraes']\n",
    "\n",
    "# Datetime to Date\n",
    "mariliaArraes_tweets['Created_at'] = mariliaArraes_tweets['Created_at'].apply(lambda d: d.date())\n",
    "\n",
    "# Filter by Label\n",
    "mariliaArraes_tweets = mariliaArraes_tweets[(mariliaArraes_tweets.Label == 'positive') | (mariliaArraes_tweets.Label == 'negative')]\n",
    "\n",
    "mariliaArraes_tweets.head()"
   ]
  },
  {
   "cell_type": "code",
   "execution_count": 15,
   "metadata": {},
   "outputs": [
    {
     "data": {
      "text/html": [
       "<div>\n",
       "<style scoped>\n",
       "    .dataframe tbody tr th:only-of-type {\n",
       "        vertical-align: middle;\n",
       "    }\n",
       "\n",
       "    .dataframe tbody tr th {\n",
       "        vertical-align: top;\n",
       "    }\n",
       "\n",
       "    .dataframe thead th {\n",
       "        text-align: right;\n",
       "    }\n",
       "</style>\n",
       "<table border=\"1\" class=\"dataframe\">\n",
       "  <thead>\n",
       "    <tr style=\"text-align: right;\">\n",
       "      <th></th>\n",
       "      <th>Score</th>\n",
       "      <th>Positive</th>\n",
       "      <th>Negative</th>\n",
       "      <th>Positive quantity</th>\n",
       "      <th>Negative quantity</th>\n",
       "      <th>Positive mean</th>\n",
       "      <th>Negative mean</th>\n",
       "    </tr>\n",
       "    <tr>\n",
       "      <th>Created_at</th>\n",
       "      <th></th>\n",
       "      <th></th>\n",
       "      <th></th>\n",
       "      <th></th>\n",
       "      <th></th>\n",
       "      <th></th>\n",
       "      <th></th>\n",
       "    </tr>\n",
       "  </thead>\n",
       "  <tbody>\n",
       "    <tr>\n",
       "      <th>2020-11-16</th>\n",
       "      <td>[0.976949, 0.98758, 0.554383, -0.731641, 0.955...</td>\n",
       "      <td>[0.976949, 0.98758, 0.554383, 0.955336, 0.9493...</td>\n",
       "      <td>[-0.731641]</td>\n",
       "      <td>7</td>\n",
       "      <td>-1</td>\n",
       "      <td>0.900899</td>\n",
       "      <td>-0.731641</td>\n",
       "    </tr>\n",
       "    <tr>\n",
       "      <th>2020-11-17</th>\n",
       "      <td>[-0.801692, 0.659761, 0.403861, -0.812512, 0.4...</td>\n",
       "      <td>[0.659761, 0.403861, 0.457639, 0.81993, 0.479925]</td>\n",
       "      <td>[-0.801692, -0.812512, -0.812088]</td>\n",
       "      <td>5</td>\n",
       "      <td>-3</td>\n",
       "      <td>0.564223</td>\n",
       "      <td>-0.808764</td>\n",
       "    </tr>\n",
       "    <tr>\n",
       "      <th>2020-11-18</th>\n",
       "      <td>[-0.320437, 0.324107, 0.863448, 0.567121, 0.61...</td>\n",
       "      <td>[0.324107, 0.863448, 0.567121, 0.616156, 0.946...</td>\n",
       "      <td>[-0.320437, -0.628981, -0.515415]</td>\n",
       "      <td>12</td>\n",
       "      <td>-3</td>\n",
       "      <td>0.756598</td>\n",
       "      <td>-0.488278</td>\n",
       "    </tr>\n",
       "    <tr>\n",
       "      <th>2020-11-19</th>\n",
       "      <td>[-0.350014, 0.553961, 0.701563, -0.660733, 0.9...</td>\n",
       "      <td>[0.553961, 0.701563, 0.967534, 0.56177, 0.7934...</td>\n",
       "      <td>[-0.350014, -0.660733, -0.972019, -0.718565, -...</td>\n",
       "      <td>8</td>\n",
       "      <td>-8</td>\n",
       "      <td>0.746070</td>\n",
       "      <td>-0.650890</td>\n",
       "    </tr>\n",
       "    <tr>\n",
       "      <th>2020-11-20</th>\n",
       "      <td>[0.819761, -0.749323, -0.713674, -0.807553, -0...</td>\n",
       "      <td>[0.819761, 0.845295, 0.793696, 0.521829, 0.936...</td>\n",
       "      <td>[-0.749323, -0.713674, -0.807553, -0.659167, -...</td>\n",
       "      <td>5</td>\n",
       "      <td>-15</td>\n",
       "      <td>0.783447</td>\n",
       "      <td>-0.766681</td>\n",
       "    </tr>\n",
       "  </tbody>\n",
       "</table>\n",
       "</div>"
      ],
      "text/plain": [
       "                                                        Score  \\\n",
       "Created_at                                                      \n",
       "2020-11-16  [0.976949, 0.98758, 0.554383, -0.731641, 0.955...   \n",
       "2020-11-17  [-0.801692, 0.659761, 0.403861, -0.812512, 0.4...   \n",
       "2020-11-18  [-0.320437, 0.324107, 0.863448, 0.567121, 0.61...   \n",
       "2020-11-19  [-0.350014, 0.553961, 0.701563, -0.660733, 0.9...   \n",
       "2020-11-20  [0.819761, -0.749323, -0.713674, -0.807553, -0...   \n",
       "\n",
       "                                                     Positive  \\\n",
       "Created_at                                                      \n",
       "2020-11-16  [0.976949, 0.98758, 0.554383, 0.955336, 0.9493...   \n",
       "2020-11-17  [0.659761, 0.403861, 0.457639, 0.81993, 0.479925]   \n",
       "2020-11-18  [0.324107, 0.863448, 0.567121, 0.616156, 0.946...   \n",
       "2020-11-19  [0.553961, 0.701563, 0.967534, 0.56177, 0.7934...   \n",
       "2020-11-20  [0.819761, 0.845295, 0.793696, 0.521829, 0.936...   \n",
       "\n",
       "                                                     Negative  \\\n",
       "Created_at                                                      \n",
       "2020-11-16                                        [-0.731641]   \n",
       "2020-11-17                  [-0.801692, -0.812512, -0.812088]   \n",
       "2020-11-18                  [-0.320437, -0.628981, -0.515415]   \n",
       "2020-11-19  [-0.350014, -0.660733, -0.972019, -0.718565, -...   \n",
       "2020-11-20  [-0.749323, -0.713674, -0.807553, -0.659167, -...   \n",
       "\n",
       "            Positive quantity  Negative quantity  Positive mean  Negative mean  \n",
       "Created_at                                                                      \n",
       "2020-11-16                  7                 -1       0.900899      -0.731641  \n",
       "2020-11-17                  5                 -3       0.564223      -0.808764  \n",
       "2020-11-18                 12                 -3       0.756598      -0.488278  \n",
       "2020-11-19                  8                 -8       0.746070      -0.650890  \n",
       "2020-11-20                  5                -15       0.783447      -0.766681  "
      ]
     },
     "execution_count": 15,
     "metadata": {},
     "output_type": "execute_result"
    }
   ],
   "source": [
    "scorebyDate_ma = mariliaArraes_tweets.groupby(by=['Created_at'])['Score'].apply(list).to_frame()\n",
    "\n",
    "scorebyDate_ma['Positive'] = scorebyDate_ma['Score'].apply(lambda s: [score for score in s if score > 0])\n",
    "scorebyDate_ma['Negative'] = scorebyDate_ma['Score'].apply(lambda s: [score for score in s if score < 0])\n",
    "\n",
    "scorebyDate_ma['Positive quantity'] = scorebyDate_ma['Positive'].apply(lambda s: len(s))\n",
    "scorebyDate_ma['Negative quantity'] = scorebyDate_ma['Negative'].apply(lambda s: len(s) * -1)\n",
    "\n",
    "scorebyDate_ma['Positive mean'] = scorebyDate_ma['Positive'].apply(lambda s: 0 if s == [] else statistics.mean(s))\n",
    "scorebyDate_ma['Negative mean'] = scorebyDate_ma['Negative'].apply(lambda s: 0 if s == [] else statistics.mean(s))\n",
    "\n",
    "scorebyDate_ma.head()"
   ]
  },
  {
   "cell_type": "code",
   "execution_count": 16,
   "metadata": {},
   "outputs": [
    {
     "data": {
      "text/plain": [
       "<matplotlib.legend.Legend at 0x1ecdb5b3d90>"
      ]
     },
     "execution_count": 16,
     "metadata": {},
     "output_type": "execute_result"
    },
    {
     "data": {
      "image/png": "[encoded data removed]",
      "text/plain": [
       "<Figure size 720x720 with 1 Axes>"
      ]
     },
     "metadata": {
      "needs_background": "light"
     },
     "output_type": "display_data"
    }
   ],
   "source": [
    "fig, ax = plt.subplots(figsize=(10,10))\n",
    "width = 0.50 \n",
    "\n",
    "p1 = plt.bar(scorebyDate_ma.index,scorebyDate_ma['Positive mean'], width, bottom=scorebyDate_ma['Negative mean'], color='g')\n",
    "p2 = plt.bar(scorebyDate_ma.index,scorebyDate_ma['Negative mean'], width, color='r')\n",
    "\n",
    "plt.title('Avarage Tweets Polarity by Date - Marília Arraes',fontsize=15)\n",
    "plt.xlabel('Period',fontsize=12)\n",
    "plt.ylabel('Score',fontsize=12)\n",
    "plt.legend((p1[0], p2[0]), ('Positive mean', 'Negative mean'),fontsize=10)"
   ]
  },
  {
   "cell_type": "code",
   "execution_count": 18,
   "metadata": {},
   "outputs": [
    {
     "data": {
      "text/plain": [
       "<matplotlib.legend.Legend at 0x1ecdb52bee0>"
      ]
     },
     "execution_count": 18,
     "metadata": {},
     "output_type": "execute_result"
    },
    {
     "data": {
      "image/png": "[encoded data removed]",
      "text/plain": [
       "<Figure size 720x720 with 1 Axes>"
      ]
     },
     "metadata": {
      "needs_background": "light"
     },
     "output_type": "display_data"
    }
   ],
   "source": [
    "fig, ax = plt.subplots(figsize=(10,10))\n",
    "width = 0.50 \n",
    "\n",
    "p1 = plt.bar(scorebyDate_jc.index,scorebyDate_jc['Positive quantity'], width, bottom=scorebyDate_jc['Negative quantity'], color='g')\n",
    "p2 = plt.bar(scorebyDate_jc.index,scorebyDate_jc['Negative quantity'], width, color='r')\n",
    "\n",
    "plt.title('Quantity of Tweets Polarity by Date - Marília Arraes',fontsize=15)\n",
    "plt.xlabel('Period',fontsize=12)\n",
    "plt.ylabel('Quantity',fontsize=12)\n",
    "plt.legend((p1[0], p2[0]), ('Positive quantity', 'Negative quantity'),fontsize=10)"
   ]
  }
 ],
 "metadata": {
  "kernelspec": {
   "display_name": "Python 3",
   "language": "python",
   "name": "python3"
  },
  "language_info": {
   "codemirror_mode": {
    "name": "ipython",
    "version": 3
   },
   "file_extension": ".py",
   "mimetype": "text/x-python",
   "name": "python",
   "nbconvert_exporter": "python",
   "pygments_lexer": "ipython3",
   "version": "3.8.3"
  }
 },
 "nbformat": 4,
 "nbformat_minor": 4
}
