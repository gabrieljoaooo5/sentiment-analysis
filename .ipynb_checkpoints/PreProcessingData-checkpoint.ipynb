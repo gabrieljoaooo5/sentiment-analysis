{
 "cells": [
  {
   "cell_type": "markdown",
   "metadata": {},
   "source": [
    "# Imports"
   ]
  },
  {
   "cell_type": "code",
   "execution_count": 50,
   "metadata": {},
   "outputs": [
    {
     "data": {
      "text/html": [
       "<div>\n",
       "<style scoped>\n",
       "    .dataframe tbody tr th:only-of-type {\n",
       "        vertical-align: middle;\n",
       "    }\n",
       "\n",
       "    .dataframe tbody tr th {\n",
       "        vertical-align: top;\n",
       "    }\n",
       "\n",
       "    .dataframe thead th {\n",
       "        text-align: right;\n",
       "    }\n",
       "</style>\n",
       "<table border=\"1\" class=\"dataframe\">\n",
       "  <thead>\n",
       "    <tr style=\"text-align: right;\">\n",
       "      <th></th>\n",
       "      <th>Username</th>\n",
       "      <th>Created_at</th>\n",
       "      <th>Text</th>\n",
       "    </tr>\n",
       "  </thead>\n",
       "  <tbody>\n",
       "    <tr>\n",
       "      <th>32</th>\n",
       "      <td>DelPatricia19</td>\n",
       "      <td>2020-11-13 20:55:28</td>\n",
       "      <td>Está na hora da decisão! Vamos nos unir para f...</td>\n",
       "    </tr>\n",
       "    <tr>\n",
       "      <th>33</th>\n",
       "      <td>DelPatricia19</td>\n",
       "      <td>2020-11-13 20:38:56</td>\n",
       "      <td>@irlanlira @RomarioOnze Agradecemos o apoio e ...</td>\n",
       "    </tr>\n",
       "    <tr>\n",
       "      <th>34</th>\n",
       "      <td>DelPatricia19</td>\n",
       "      <td>2020-11-13 20:37:57</td>\n",
       "      <td>@PaschoalSantos1 Vamos juntos fazer um Recife ...</td>\n",
       "    </tr>\n",
       "    <tr>\n",
       "      <th>35</th>\n",
       "      <td>DelPatricia19</td>\n",
       "      <td>2020-11-13 20:37:38</td>\n",
       "      <td>@Nino_Dangelo Vamos juntos!</td>\n",
       "    </tr>\n",
       "    <tr>\n",
       "      <th>36</th>\n",
       "      <td>DelPatricia19</td>\n",
       "      <td>2020-11-13 20:00:20</td>\n",
       "      <td>A mudança chegou e ela se chama Delegada Patrí...</td>\n",
       "    </tr>\n",
       "    <tr>\n",
       "      <th>...</th>\n",
       "      <td>...</td>\n",
       "      <td>...</td>\n",
       "      <td>...</td>\n",
       "    </tr>\n",
       "    <tr>\n",
       "      <th>2235</th>\n",
       "      <td>mendoncafilho</td>\n",
       "      <td>2020-09-28 15:33:48</td>\n",
       "      <td>A verdade, para mim, significa confiança. É al...</td>\n",
       "    </tr>\n",
       "    <tr>\n",
       "      <th>2236</th>\n",
       "      <td>mendoncafilho</td>\n",
       "      <td>2020-09-27 19:01:08</td>\n",
       "      <td>Eu queria saber de você: quais problemas na ci...</td>\n",
       "    </tr>\n",
       "    <tr>\n",
       "      <th>2237</th>\n",
       "      <td>mendoncafilho</td>\n",
       "      <td>2020-09-27 15:20:17</td>\n",
       "      <td>Mendonça consolida-se como ÚNICO da oposição q...</td>\n",
       "    </tr>\n",
       "    <tr>\n",
       "      <th>2238</th>\n",
       "      <td>mendoncafilho</td>\n",
       "      <td>2020-09-27 11:31:16</td>\n",
       "      <td>É vergonhosa a situação em que os Mercados Púb...</td>\n",
       "    </tr>\n",
       "    <tr>\n",
       "      <th>2239</th>\n",
       "      <td>mendoncafilho</td>\n",
       "      <td>2020-09-27 03:06:11</td>\n",
       "      <td>É dada a largada de minha caminhada junto com ...</td>\n",
       "    </tr>\n",
       "  </tbody>\n",
       "</table>\n",
       "<p>1828 rows × 3 columns</p>\n",
       "</div>"
      ],
      "text/plain": [
       "           Username          Created_at  \\\n",
       "32    DelPatricia19 2020-11-13 20:55:28   \n",
       "33    DelPatricia19 2020-11-13 20:38:56   \n",
       "34    DelPatricia19 2020-11-13 20:37:57   \n",
       "35    DelPatricia19 2020-11-13 20:37:38   \n",
       "36    DelPatricia19 2020-11-13 20:00:20   \n",
       "...             ...                 ...   \n",
       "2235  mendoncafilho 2020-09-28 15:33:48   \n",
       "2236  mendoncafilho 2020-09-27 19:01:08   \n",
       "2237  mendoncafilho 2020-09-27 15:20:17   \n",
       "2238  mendoncafilho 2020-09-27 11:31:16   \n",
       "2239  mendoncafilho 2020-09-27 03:06:11   \n",
       "\n",
       "                                                   Text  \n",
       "32    Está na hora da decisão! Vamos nos unir para f...  \n",
       "33    @irlanlira @RomarioOnze Agradecemos o apoio e ...  \n",
       "34    @PaschoalSantos1 Vamos juntos fazer um Recife ...  \n",
       "35                          @Nino_Dangelo Vamos juntos!  \n",
       "36    A mudança chegou e ela se chama Delegada Patrí...  \n",
       "...                                                 ...  \n",
       "2235  A verdade, para mim, significa confiança. É al...  \n",
       "2236  Eu queria saber de você: quais problemas na ci...  \n",
       "2237  Mendonça consolida-se como ÚNICO da oposição q...  \n",
       "2238  É vergonhosa a situação em que os Mercados Púb...  \n",
       "2239  É dada a largada de minha caminhada junto com ...  \n",
       "\n",
       "[1828 rows x 3 columns]"
      ]
     },
     "execution_count": 50,
     "metadata": {},
     "output_type": "execute_result"
    }
   ],
   "source": [
    "import tweepy\n",
    "import pandas as pd\n",
    "import GetOldTweets3 as got\n",
    "import datetime\n",
    "import re\n",
    "import unidecode\n",
    "import nltk\n",
    "from nltk import bigrams\n",
    "from nltk.corpus import stopwords \n",
    "from nltk.tokenize import word_tokenize \n",
    "from sklearn.feature_extraction.text import TfidfVectorizer\n",
    "import time\n",
    "import numpy as np\n",
    "import matplotlib.pyplot as plt\n",
    "\n",
    "tweets_df = pd.read_csv('originalTweetsUntilDate.csv')\n",
    "until_date = datetime.datetime(2020,11,14 ,0, 0)\n",
    "tweets_df['Created_at'] = tweets_df['Created_at'].apply(lambda d: datetime.datetime.strptime(d, '%Y-%m-%d %H:%M:%S'))\n",
    "tweets_df = tweets_df[tweets_df.Created_at <= until_date]\n",
    "tweets_df"
   ]
  },
  {
   "cell_type": "markdown",
   "metadata": {},
   "source": [
    "# Pre-processing data"
   ]
  },
  {
   "cell_type": "code",
   "execution_count": 51,
   "metadata": {},
   "outputs": [
    {
     "name": "stderr",
     "output_type": "stream",
     "text": [
      "[nltk_data] Downloading package rslp to\n",
      "[nltk_data]     C:\\Users\\joaog\\AppData\\Roaming\\nltk_data...\n",
      "[nltk_data]   Package rslp is already up-to-date!\n"
     ]
    }
   ],
   "source": [
    "nltk.download('rslp')\n",
    "def Stemming(sentence):\n",
    "    stemmer = nltk.stem.RSLPStemmer()\n",
    "    phrase = []\n",
    "    for word in sentence.split():\n",
    "        #phrase.append(stemmer.stem(word))\n",
    "        phrase.append(word)\n",
    "    return phrase"
   ]
  },
  {
   "cell_type": "code",
   "execution_count": 52,
   "metadata": {},
   "outputs": [
    {
     "name": "stderr",
     "output_type": "stream",
     "text": [
      "[nltk_data] Downloading package stopwords to\n",
      "[nltk_data]     C:\\Users\\joaog\\AppData\\Roaming\\nltk_data...\n",
      "[nltk_data]   Package stopwords is already up-to-date!\n",
      "[nltk_data] Downloading package punkt to\n",
      "[nltk_data]     C:\\Users\\joaog\\AppData\\Roaming\\nltk_data...\n",
      "[nltk_data]   Package punkt is already up-to-date!\n"
     ]
    },
    {
     "data": {
      "text/html": [
       "<div>\n",
       "<style scoped>\n",
       "    .dataframe tbody tr th:only-of-type {\n",
       "        vertical-align: middle;\n",
       "    }\n",
       "\n",
       "    .dataframe tbody tr th {\n",
       "        vertical-align: top;\n",
       "    }\n",
       "\n",
       "    .dataframe thead th {\n",
       "        text-align: right;\n",
       "    }\n",
       "</style>\n",
       "<table border=\"1\" class=\"dataframe\">\n",
       "  <thead>\n",
       "    <tr style=\"text-align: right;\">\n",
       "      <th></th>\n",
       "      <th>Username</th>\n",
       "      <th>Created_at</th>\n",
       "      <th>Text</th>\n",
       "    </tr>\n",
       "  </thead>\n",
       "  <tbody>\n",
       "    <tr>\n",
       "      <th>32</th>\n",
       "      <td>DelPatricia19</td>\n",
       "      <td>2020-11-13 20:55:28</td>\n",
       "      <td>[hora, decisao, vamos, unir, fazer, mudanca, r...</td>\n",
       "    </tr>\n",
       "    <tr>\n",
       "      <th>33</th>\n",
       "      <td>DelPatricia19</td>\n",
       "      <td>2020-11-13 20:38:56</td>\n",
       "      <td>[agradecemos, apoio, vamos, juntos, mudar, rec...</td>\n",
       "    </tr>\n",
       "    <tr>\n",
       "      <th>34</th>\n",
       "      <td>DelPatricia19</td>\n",
       "      <td>2020-11-13 20:37:57</td>\n",
       "      <td>[vamos, juntos, fazer, recife, melhor]</td>\n",
       "    </tr>\n",
       "    <tr>\n",
       "      <th>35</th>\n",
       "      <td>DelPatricia19</td>\n",
       "      <td>2020-11-13 20:37:38</td>\n",
       "      <td>[vamos, juntos]</td>\n",
       "    </tr>\n",
       "    <tr>\n",
       "      <th>36</th>\n",
       "      <td>DelPatricia19</td>\n",
       "      <td>2020-11-13 20:00:20</td>\n",
       "      <td>[mudanca, chegou, chama, delegada, patricia, d...</td>\n",
       "    </tr>\n",
       "  </tbody>\n",
       "</table>\n",
       "</div>"
      ],
      "text/plain": [
       "         Username          Created_at  \\\n",
       "32  DelPatricia19 2020-11-13 20:55:28   \n",
       "33  DelPatricia19 2020-11-13 20:38:56   \n",
       "34  DelPatricia19 2020-11-13 20:37:57   \n",
       "35  DelPatricia19 2020-11-13 20:37:38   \n",
       "36  DelPatricia19 2020-11-13 20:00:20   \n",
       "\n",
       "                                                 Text  \n",
       "32  [hora, decisao, vamos, unir, fazer, mudanca, r...  \n",
       "33  [agradecemos, apoio, vamos, juntos, mudar, rec...  \n",
       "34             [vamos, juntos, fazer, recife, melhor]  \n",
       "35                                    [vamos, juntos]  \n",
       "36  [mudanca, chegou, chama, delegada, patricia, d...  "
      ]
     },
     "execution_count": 52,
     "metadata": {},
     "output_type": "execute_result"
    }
   ],
   "source": [
    "nltk.download('stopwords')\n",
    "nltk.download('punkt')\n",
    "\n",
    "stop_words = set(stopwords.words('portuguese')) \n",
    "\n",
    "# To lower\n",
    "tweets_df['Text'] = tweets_df.Text.apply(lambda t: t.lower())\n",
    "\n",
    "# Unicode tweet (remove accents etc)\n",
    "tweets_df['Text'] = tweets_df.Text.apply(lambda t: unidecode.unidecode(t))  \n",
    "\n",
    "#Remove usernames \n",
    "tweets_df['Text'] = tweets_df.Text.apply(lambda t: re.sub('(@)[^\\s]+','',t))\n",
    "\n",
    "#Remove urls \n",
    "tweets_df['Text'] = tweets_df.Text.apply(lambda t: re.sub('(http)\\S+', '', t, flags=re.MULTILINE))\n",
    "\n",
    "#Remove new line \n",
    "tweets_df['Text'] = tweets_df.Text.apply(lambda t: t.replace('\\n',''))\n",
    "\n",
    "#Remove hashtags \n",
    "tweets_df['Text'] = tweets_df.Text.apply(lambda t: re.sub('(#)\\w+','',t))\n",
    "\n",
    "#Remove Numbers \n",
    "tweets_df['Text'] = tweets_df.Text.apply(lambda t: re.sub('(\\d)+','',t))\n",
    "\n",
    "#Remove special characteres \n",
    "tweets_df['Text'] = tweets_df.Text.apply(lambda t: re.sub(r\"[^a-zA-Z0-9]+\", ' ',t))\n",
    "\n",
    "#Split text\n",
    "tweets_df['Text'] = tweets_df.Text.apply(lambda t: t.split())\n",
    "\n",
    "#Remove stopwords\n",
    "tweets_df['Text'] = tweets_df['Text'].apply(lambda t: [item for item in t if item not in stop_words])\n",
    "\n",
    "#Remove rows without text\n",
    "tweets_df = tweets_df[tweets_df['Text'].map(lambda l: len(l)) > 0]\n",
    "\n",
    "#Generate biagrams \n",
    "#tweets_df['Biagrams'] = tweets_df['Text'].apply(lambda t: list(bigrams(t)))\n",
    "  \n",
    "tweets_df.head(5)\n"
   ]
  },
  {
   "cell_type": "markdown",
   "metadata": {},
   "source": [
    "# OpLexicon V3.0"
   ]
  },
  {
   "cell_type": "code",
   "execution_count": 53,
   "metadata": {},
   "outputs": [
    {
     "data": {
      "text/html": [
       "<div>\n",
       "<style scoped>\n",
       "    .dataframe tbody tr th:only-of-type {\n",
       "        vertical-align: middle;\n",
       "    }\n",
       "\n",
       "    .dataframe tbody tr th {\n",
       "        vertical-align: top;\n",
       "    }\n",
       "\n",
       "    .dataframe thead th {\n",
       "        text-align: right;\n",
       "    }\n",
       "</style>\n",
       "<table border=\"1\" class=\"dataframe\">\n",
       "  <thead>\n",
       "    <tr style=\"text-align: right;\">\n",
       "      <th></th>\n",
       "      <th>Type</th>\n",
       "      <th>Polarity</th>\n",
       "      <th>Unknown</th>\n",
       "    </tr>\n",
       "    <tr>\n",
       "      <th>Word</th>\n",
       "      <th></th>\n",
       "      <th></th>\n",
       "      <th></th>\n",
       "    </tr>\n",
       "  </thead>\n",
       "  <tbody>\n",
       "    <tr>\n",
       "      <th>=[</th>\n",
       "      <td>emot</td>\n",
       "      <td>-1</td>\n",
       "      <td>A</td>\n",
       "    </tr>\n",
       "    <tr>\n",
       "      <th>=@</th>\n",
       "      <td>emot</td>\n",
       "      <td>-1</td>\n",
       "      <td>A</td>\n",
       "    </tr>\n",
       "    <tr>\n",
       "      <th>=p</th>\n",
       "      <td>emot</td>\n",
       "      <td>-1</td>\n",
       "      <td>A</td>\n",
       "    </tr>\n",
       "    <tr>\n",
       "      <th>=P</th>\n",
       "      <td>emot</td>\n",
       "      <td>-1</td>\n",
       "      <td>A</td>\n",
       "    </tr>\n",
       "    <tr>\n",
       "      <th>=x</th>\n",
       "      <td>emot</td>\n",
       "      <td>-1</td>\n",
       "      <td>A</td>\n",
       "    </tr>\n",
       "    <tr>\n",
       "      <th>...</th>\n",
       "      <td>...</td>\n",
       "      <td>...</td>\n",
       "      <td>...</td>\n",
       "    </tr>\n",
       "    <tr>\n",
       "      <th>zumbidores</th>\n",
       "      <td>adj</td>\n",
       "      <td>-1</td>\n",
       "      <td>A</td>\n",
       "    </tr>\n",
       "    <tr>\n",
       "      <th>zumbir</th>\n",
       "      <td>vb</td>\n",
       "      <td>1</td>\n",
       "      <td>A</td>\n",
       "    </tr>\n",
       "    <tr>\n",
       "      <th>zunir</th>\n",
       "      <td>vb</td>\n",
       "      <td>1</td>\n",
       "      <td>A</td>\n",
       "    </tr>\n",
       "    <tr>\n",
       "      <th>zupar</th>\n",
       "      <td>vb</td>\n",
       "      <td>-1</td>\n",
       "      <td>A</td>\n",
       "    </tr>\n",
       "    <tr>\n",
       "      <th>zurzir</th>\n",
       "      <td>vb</td>\n",
       "      <td>-1</td>\n",
       "      <td>A</td>\n",
       "    </tr>\n",
       "  </tbody>\n",
       "</table>\n",
       "<p>32173 rows × 3 columns</p>\n",
       "</div>"
      ],
      "text/plain": [
       "            Type  Polarity Unknown\n",
       "Word                              \n",
       "=[          emot        -1       A\n",
       "=@          emot        -1       A\n",
       "=p          emot        -1       A\n",
       "=P          emot        -1       A\n",
       "=x          emot        -1       A\n",
       "...          ...       ...     ...\n",
       "zumbidores   adj        -1       A\n",
       "zumbir        vb         1       A\n",
       "zunir         vb         1       A\n",
       "zupar         vb        -1       A\n",
       "zurzir        vb        -1       A\n",
       "\n",
       "[32173 rows x 3 columns]"
      ]
     },
     "execution_count": 53,
     "metadata": {},
     "output_type": "execute_result"
    }
   ],
   "source": [
    "dictionary = pd.read_csv('lexico_v3.0.txt', sep=\",\", header=None)\n",
    "dictionary.columns = ['Word', 'Type', 'Polarity', 'Unknown']\n",
    "dictionary.drop_duplicates(inplace=True)\n",
    "dictionary.set_index('Word',inplace=True)\n",
    "dictionary"
   ]
  },
  {
   "cell_type": "markdown",
   "metadata": {},
   "source": [
    "# IBOPE - Primeiro Turno \n",
    "https://jc.ne10.uol.com.br/politica/2020/11/11997014-ibope-jc-rede-globo-divulgam-ultima-pesquisa-para-prefeito-do-recife.html\n",
    "### *Se a porcentagem da pesquisa aumentar ou ficar igual à anterior, o resultado é 0.5. Caso contrário, é -0.5"
   ]
  },
  {
   "cell_type": "code",
   "execution_count": 140,
   "metadata": {},
   "outputs": [
    {
     "data": {
      "text/html": [
       "<div>\n",
       "<style scoped>\n",
       "    .dataframe tbody tr th:only-of-type {\n",
       "        vertical-align: middle;\n",
       "    }\n",
       "\n",
       "    .dataframe tbody tr th {\n",
       "        vertical-align: top;\n",
       "    }\n",
       "\n",
       "    .dataframe thead th {\n",
       "        text-align: right;\n",
       "    }\n",
       "</style>\n",
       "<table border=\"1\" class=\"dataframe\">\n",
       "  <thead>\n",
       "    <tr style=\"text-align: right;\">\n",
       "      <th></th>\n",
       "      <th>DelPatricia19</th>\n",
       "      <th>JoaoCampos</th>\n",
       "      <th>MariliaArraes</th>\n",
       "      <th>mendoncafilho</th>\n",
       "    </tr>\n",
       "  </thead>\n",
       "  <tbody>\n",
       "    <tr>\n",
       "      <th>2020-10-02</th>\n",
       "      <td>0.5</td>\n",
       "      <td>0.5</td>\n",
       "      <td>0.5</td>\n",
       "      <td>0.5</td>\n",
       "    </tr>\n",
       "    <tr>\n",
       "      <th>2020-10-15</th>\n",
       "      <td>-0.5</td>\n",
       "      <td>0.5</td>\n",
       "      <td>-0.5</td>\n",
       "      <td>-0.5</td>\n",
       "    </tr>\n",
       "    <tr>\n",
       "      <th>2020-10-29</th>\n",
       "      <td>0.5</td>\n",
       "      <td>-0.5</td>\n",
       "      <td>0.5</td>\n",
       "      <td>-0.5</td>\n",
       "    </tr>\n",
       "    <tr>\n",
       "      <th>2020-11-09</th>\n",
       "      <td>-0.5</td>\n",
       "      <td>0.5</td>\n",
       "      <td>0.5</td>\n",
       "      <td>0.5</td>\n",
       "    </tr>\n",
       "    <tr>\n",
       "      <th>2020-11-13</th>\n",
       "      <td>0.5</td>\n",
       "      <td>0.5</td>\n",
       "      <td>0.5</td>\n",
       "      <td>-0.5</td>\n",
       "    </tr>\n",
       "  </tbody>\n",
       "</table>\n",
       "</div>"
      ],
      "text/plain": [
       "            DelPatricia19  JoaoCampos  MariliaArraes  mendoncafilho\n",
       "2020-10-02            0.5         0.5            0.5            0.5\n",
       "2020-10-15           -0.5         0.5           -0.5           -0.5\n",
       "2020-10-29            0.5        -0.5            0.5           -0.5\n",
       "2020-11-09           -0.5         0.5            0.5            0.5\n",
       "2020-11-13            0.5         0.5            0.5           -0.5"
      ]
     },
     "execution_count": 140,
     "metadata": {},
     "output_type": "execute_result"
    }
   ],
   "source": [
    "dates = [datetime.date(2020,10,2), datetime.date(2020,10,15), datetime.date(2020,10,29), datetime.date(2020,11,9), datetime.date(2020,11,13)]\n",
    "ibope = {'DelPatricia19': [0.5,-0.5,0.5,-0.5,0.5], 'JoaoCampos': [0.5,0.5,-0.5,0.5,0.5],'MariliaArraes': [0.5,-0.5,0.5,0.5,0.5],'mendoncafilho': [0.5,-0.5,-0.5,0.5,-0.5]}\n",
    "ibope = pd.DataFrame(ibope)\n",
    "ibope.index = dates\n",
    "ibope"
   ]
  },
  {
   "cell_type": "markdown",
   "metadata": {},
   "source": [
    "# Polarity Equation"
   ]
  },
  {
   "cell_type": "code",
   "execution_count": 54,
   "metadata": {},
   "outputs": [],
   "source": [
    "def polarity(tweet):\n",
    "    positive_words = 0\n",
    "    negative_words = 0\n",
    "    for word in tweet:\n",
    "        if word in dictionary.index:\n",
    "            if dictionary.loc[word].Polarity.shape == ():\n",
    "                if dictionary.loc[word].Polarity == 1:\n",
    "                    positive_words+=1\n",
    "                elif dictionary.loc[word].Polarity == -1:\n",
    "                    negative_words+=1\n",
    "            else:\n",
    "                currentPolarity = dictionary.loc[word].Polarity[0]\n",
    "                for polarity in dictionary.loc[word].Polarity:\n",
    "                    if(polarity != currentPolarity):\n",
    "                        break\n",
    "                if dictionary.loc[word].Polarity[0] == 1:\n",
    "                    positive_words+=1\n",
    "                elif dictionary.loc[word].Polarity[0] == -1:\n",
    "                    negative_words+=1\n",
    "                \n",
    "    result = positive_words - negative_words\n",
    "    return result"
   ]
  },
  {
   "cell_type": "code",
   "execution_count": 55,
   "metadata": {},
   "outputs": [],
   "source": [
    "def customDataFrame(df):\n",
    "    result = []\n",
    "    positive = 0\n",
    "    negative = 0\n",
    "    for date in df.index.unique():\n",
    "        if isinstance(df.loc[date].Polarity, (int, np.integer)):\n",
    "            polarity = df.loc[date].Polarity\n",
    "            if polarity > 0:\n",
    "                positive+=polarity\n",
    "            else:\n",
    "                negative+=polarity\n",
    "        else:\n",
    "            for polarity in df.loc[date].Polarity:\n",
    "                if polarity > 0:\n",
    "                    positive+=polarity\n",
    "                else:\n",
    "                    negative+=polarity\n",
    "        result.append([date,positive,negative])\n",
    "        positive = 0\n",
    "        negative = 0\n",
    "    result_df = pd.DataFrame(result,columns = ['date','positive','negative'])\n",
    "    return result_df\n",
    "        \n",
    "                \n",
    "        "
   ]
  },
  {
   "cell_type": "code",
   "execution_count": 56,
   "metadata": {},
   "outputs": [
    {
     "name": "stderr",
     "output_type": "stream",
     "text": [
      "<ipython-input-56-35cff6d22978>:1: SettingWithCopyWarning: \n",
      "A value is trying to be set on a copy of a slice from a DataFrame.\n",
      "Try using .loc[row_indexer,col_indexer] = value instead\n",
      "\n",
      "See the caveats in the documentation: https://pandas.pydata.org/pandas-docs/stable/user_guide/indexing.html#returning-a-view-versus-a-copy\n",
      "  tweets_df['Polarity'] = tweets_df['Text'].apply(lambda t: polarity(t))\n"
     ]
    },
    {
     "data": {
      "text/html": [
       "<div>\n",
       "<style scoped>\n",
       "    .dataframe tbody tr th:only-of-type {\n",
       "        vertical-align: middle;\n",
       "    }\n",
       "\n",
       "    .dataframe tbody tr th {\n",
       "        vertical-align: top;\n",
       "    }\n",
       "\n",
       "    .dataframe thead th {\n",
       "        text-align: right;\n",
       "    }\n",
       "</style>\n",
       "<table border=\"1\" class=\"dataframe\">\n",
       "  <thead>\n",
       "    <tr style=\"text-align: right;\">\n",
       "      <th></th>\n",
       "      <th>Username</th>\n",
       "      <th>Created_at</th>\n",
       "      <th>Text</th>\n",
       "      <th>Polarity</th>\n",
       "    </tr>\n",
       "  </thead>\n",
       "  <tbody>\n",
       "    <tr>\n",
       "      <th>32</th>\n",
       "      <td>DelPatricia19</td>\n",
       "      <td>2020-11-13 20:55:28</td>\n",
       "      <td>[hora, decisao, vamos, unir, fazer, mudanca, r...</td>\n",
       "      <td>1</td>\n",
       "    </tr>\n",
       "    <tr>\n",
       "      <th>33</th>\n",
       "      <td>DelPatricia19</td>\n",
       "      <td>2020-11-13 20:38:56</td>\n",
       "      <td>[agradecemos, apoio, vamos, juntos, mudar, rec...</td>\n",
       "      <td>-1</td>\n",
       "    </tr>\n",
       "    <tr>\n",
       "      <th>34</th>\n",
       "      <td>DelPatricia19</td>\n",
       "      <td>2020-11-13 20:37:57</td>\n",
       "      <td>[vamos, juntos, fazer, recife, melhor]</td>\n",
       "      <td>1</td>\n",
       "    </tr>\n",
       "    <tr>\n",
       "      <th>35</th>\n",
       "      <td>DelPatricia19</td>\n",
       "      <td>2020-11-13 20:37:38</td>\n",
       "      <td>[vamos, juntos]</td>\n",
       "      <td>0</td>\n",
       "    </tr>\n",
       "    <tr>\n",
       "      <th>36</th>\n",
       "      <td>DelPatricia19</td>\n",
       "      <td>2020-11-13 20:00:20</td>\n",
       "      <td>[mudanca, chegou, chama, delegada, patricia, d...</td>\n",
       "      <td>-1</td>\n",
       "    </tr>\n",
       "  </tbody>\n",
       "</table>\n",
       "</div>"
      ],
      "text/plain": [
       "         Username          Created_at  \\\n",
       "32  DelPatricia19 2020-11-13 20:55:28   \n",
       "33  DelPatricia19 2020-11-13 20:38:56   \n",
       "34  DelPatricia19 2020-11-13 20:37:57   \n",
       "35  DelPatricia19 2020-11-13 20:37:38   \n",
       "36  DelPatricia19 2020-11-13 20:00:20   \n",
       "\n",
       "                                                 Text  Polarity  \n",
       "32  [hora, decisao, vamos, unir, fazer, mudanca, r...         1  \n",
       "33  [agradecemos, apoio, vamos, juntos, mudar, rec...        -1  \n",
       "34             [vamos, juntos, fazer, recife, melhor]         1  \n",
       "35                                    [vamos, juntos]         0  \n",
       "36  [mudanca, chegou, chama, delegada, patricia, d...        -1  "
      ]
     },
     "execution_count": 56,
     "metadata": {},
     "output_type": "execute_result"
    }
   ],
   "source": [
    "tweets_df['Polarity'] = tweets_df['Text'].apply(lambda t: polarity(t))\n",
    "tweets_df.head()"
   ]
  },
  {
   "cell_type": "markdown",
   "metadata": {},
   "source": [
    "# Delegada Patrícia tweets"
   ]
  },
  {
   "cell_type": "code",
   "execution_count": 149,
   "metadata": {},
   "outputs": [
    {
     "name": "stderr",
     "output_type": "stream",
     "text": [
      "<ipython-input-149-bbaf98b6b122>:2: SettingWithCopyWarning: \n",
      "A value is trying to be set on a copy of a slice from a DataFrame.\n",
      "Try using .loc[row_indexer,col_indexer] = value instead\n",
      "\n",
      "See the caveats in the documentation: https://pandas.pydata.org/pandas-docs/stable/user_guide/indexing.html#returning-a-view-versus-a-copy\n",
      "  delPatricia_tweets['Created_at'] = delPatricia_tweets['Created_at'].apply(lambda d: d.date())\n"
     ]
    },
    {
     "data": {
      "text/plain": [
       "<matplotlib.legend.Legend at 0x224d57f7370>"
      ]
     },
     "execution_count": 149,
     "metadata": {},
     "output_type": "execute_result"
    },
    {
     "data": {
      "image/png": "[encoded data removed]",
      "text/plain": [
       "<Figure size 720x720 with 1 Axes>"
      ]
     },
     "metadata": {
      "needs_background": "light"
     },
     "output_type": "display_data"
    }
   ],
   "source": [
    "delPatricia_tweets = tweets_df[tweets_df['Username'] == 'DelPatricia19']\n",
    "delPatricia_tweets['Created_at'] = delPatricia_tweets['Created_at'].apply(lambda d: d.date())\n",
    "delPatricia_tweets.set_index('Created_at',inplace=True)\n",
    "delPatricia_polarity = customDataFrame(delPatricia_tweets)\n",
    "\n",
    "fig, ax = plt.subplots(figsize=(10,10))\n",
    "width = 0.50 \n",
    "\n",
    "p1 = plt.bar(delPatricia_polarity.date,delPatricia_polarity.positive, width, bottom=delPatricia_polarity.negative, color='g')\n",
    "p2 = plt.bar(delPatricia_polarity.date,delPatricia_polarity.negative, width, color='r')\n",
    "p3 = plt.bar(ibope.index,ibope['DelPatricia19'], width, color='black')\n",
    "\n",
    "plt.title('Tweets Polarity - Delegada Patrícia',fontsize=15)\n",
    "plt.xlabel('Period',fontsize=12)\n",
    "plt.ylabel('Sentiment',fontsize=12)\n",
    "plt.legend((p1[0], p2[0],p3[3]), ('Positive', 'Negative','IBOPE'),fontsize=10)"
   ]
  },
  {
   "cell_type": "markdown",
   "metadata": {},
   "source": [
    "# João Campos tweets"
   ]
  },
  {
   "cell_type": "code",
   "execution_count": 148,
   "metadata": {},
   "outputs": [
    {
     "name": "stderr",
     "output_type": "stream",
     "text": [
      "<ipython-input-148-80e3f892324d>:3: SettingWithCopyWarning: \n",
      "A value is trying to be set on a copy of a slice from a DataFrame.\n",
      "Try using .loc[row_indexer,col_indexer] = value instead\n",
      "\n",
      "See the caveats in the documentation: https://pandas.pydata.org/pandas-docs/stable/user_guide/indexing.html#returning-a-view-versus-a-copy\n",
      "  joaoCampos_tweets['Created_at'] = joaoCampos_tweets['Created_at'].apply(lambda d: d.date())\n"
     ]
    },
    {
     "data": {
      "text/plain": [
       "<matplotlib.legend.Legend at 0x224d7109a90>"
      ]
     },
     "execution_count": 148,
     "metadata": {},
     "output_type": "execute_result"
    },
    {
     "data": {
      "image/png": "[encoded data removed]",
      "text/plain": [
       "<Figure size 720x720 with 1 Axes>"
      ]
     },
     "metadata": {
      "needs_background": "light"
     },
     "output_type": "display_data"
    }
   ],
   "source": [
    "joaoCampos_tweets = tweets_df[tweets_df['Username'] == 'JoaoCampos']\n",
    "#joaoCampos_tweets['Created_at'] = joaoCampos_tweets['Created_at'].apply(lambda d: datetime.datetime.strptime(d, '%Y-%m-%d %H:%M:%S'))\n",
    "joaoCampos_tweets['Created_at'] = joaoCampos_tweets['Created_at'].apply(lambda d: d.date())\n",
    "joaoCampos_tweets.set_index('Created_at',inplace=True)\n",
    "joaoCampos_polarity = customDataFrame(joaoCampos_tweets)\n",
    "\n",
    "fig, ax = plt.subplots(figsize=(10,10))\n",
    "width = 0.50 \n",
    "\n",
    "p1 = plt.bar(joaoCampos_polarity.date,joaoCampos_polarity.positive, width, bottom=joaoCampos_polarity.negative, color='g')\n",
    "p2 = plt.bar(joaoCampos_polarity.date,joaoCampos_polarity.negative, width, color='r')\n",
    "p3 = plt.bar(ibope.index,ibope['JoaoCampos'], width, color='black')\n",
    "\n",
    "plt.title('Tweets Polarity - João Campos',fontsize=15)\n",
    "plt.xlabel('Period',fontsize=12)\n",
    "plt.ylabel('Sentiment',fontsize=12)\n",
    "plt.legend((p1[0], p2[0],p3[3]), ('Positive', 'Negative','IBOPE'),fontsize=10)\n",
    "\n"
   ]
  },
  {
   "cell_type": "markdown",
   "metadata": {},
   "source": [
    "# Marilia Arraes Tweets"
   ]
  },
  {
   "cell_type": "code",
   "execution_count": 147,
   "metadata": {},
   "outputs": [
    {
     "name": "stderr",
     "output_type": "stream",
     "text": [
      "<ipython-input-147-b4f56abffa0c>:3: SettingWithCopyWarning: \n",
      "A value is trying to be set on a copy of a slice from a DataFrame.\n",
      "Try using .loc[row_indexer,col_indexer] = value instead\n",
      "\n",
      "See the caveats in the documentation: https://pandas.pydata.org/pandas-docs/stable/user_guide/indexing.html#returning-a-view-versus-a-copy\n",
      "  mariliaArraes_tweets['Created_at'] = mariliaArraes_tweets['Created_at'].apply(lambda d: d.date())\n"
     ]
    },
    {
     "data": {
      "text/plain": [
       "<matplotlib.legend.Legend at 0x224d6a06640>"
      ]
     },
     "execution_count": 147,
     "metadata": {},
     "output_type": "execute_result"
    },
    {
     "data": {
      "image/png": "[encoded data removed]",
      "text/plain": [
       "<Figure size 720x720 with 1 Axes>"
      ]
     },
     "metadata": {
      "needs_background": "light"
     },
     "output_type": "display_data"
    }
   ],
   "source": [
    "mariliaArraes_tweets = tweets_df[tweets_df['Username'] == 'MariliaArraes']\n",
    "#mariliaArraes_tweets['Created_at'] = mariliaArraes_tweets['Created_at'].apply(lambda d: datetime.datetime.strptime(d, '%Y-%m-%d %H:%M:%S'))\n",
    "mariliaArraes_tweets['Created_at'] = mariliaArraes_tweets['Created_at'].apply(lambda d: d.date())\n",
    "mariliaArraes_tweets.set_index('Created_at',inplace=True)\n",
    "mariliaArraes_polarity = customDataFrame(mariliaArraes_tweets)\n",
    "\n",
    "fig, ax = plt.subplots(figsize=(10,10))\n",
    "width = 0.50 \n",
    "\n",
    "p1 = plt.bar(mariliaArraes_polarity.date,mariliaArraes_polarity.positive, width, bottom=mariliaArraes_polarity.negative, color='g')\n",
    "p2 = plt.bar(mariliaArraes_polarity.date,mariliaArraes_polarity.negative, width, color='r')\n",
    "p3 = plt.bar(ibope.index,ibope['MariliaArraes'], width, color='black')\n",
    "\n",
    "plt.title('Tweets Polarity - Marília Arraes',fontsize=15)\n",
    "plt.xlabel('Period',fontsize=12)\n",
    "plt.ylabel('Sentiment',fontsize=12)\n",
    "plt.legend((p1[0], p2[0],p3[3]), ('Positive', 'Negative','IBOPE'),fontsize=10)\n",
    "\n"
   ]
  },
  {
   "cell_type": "markdown",
   "metadata": {},
   "source": [
    "# Mendonça Filho tweets"
   ]
  },
  {
   "cell_type": "code",
   "execution_count": 146,
   "metadata": {},
   "outputs": [
    {
     "name": "stderr",
     "output_type": "stream",
     "text": [
      "<ipython-input-146-8208e9a9fc7a>:3: SettingWithCopyWarning: \n",
      "A value is trying to be set on a copy of a slice from a DataFrame.\n",
      "Try using .loc[row_indexer,col_indexer] = value instead\n",
      "\n",
      "See the caveats in the documentation: https://pandas.pydata.org/pandas-docs/stable/user_guide/indexing.html#returning-a-view-versus-a-copy\n",
      "  mendoncafilho_tweets['Created_at'] = mendoncafilho_tweets['Created_at'].apply(lambda d: d.date())\n"
     ]
    },
    {
     "data": {
      "text/plain": [
       "<matplotlib.legend.Legend at 0x224d69b6340>"
      ]
     },
     "execution_count": 146,
     "metadata": {},
     "output_type": "execute_result"
    },
    {
     "data": {
      "image/png": "[encoded data removed]",
      "text/plain": [
       "<Figure size 720x720 with 1 Axes>"
      ]
     },
     "metadata": {
      "needs_background": "light"
     },
     "output_type": "display_data"
    }
   ],
   "source": [
    "mendoncafilho_tweets = tweets_df[tweets_df['Username'] == 'mendoncafilho']\n",
    "#mendoncafilho_tweets['Created_at'] = mendoncafilho_tweets['Created_at'].apply(lambda d: datetime.datetime.strptime(d, '%Y-%m-%d %H:%M:%S'))\n",
    "mendoncafilho_tweets['Created_at'] = mendoncafilho_tweets['Created_at'].apply(lambda d: d.date())\n",
    "mendoncafilho_tweets.set_index('Created_at',inplace=True)\n",
    "mendoncafilho_polarity = customDataFrame(mendoncafilho_tweets)\n",
    "\n",
    "fig, ax = plt.subplots(figsize=(10,10))\n",
    "width = 0.50 \n",
    "\n",
    "p1 = plt.bar(mendoncafilho_polarity.date,mendoncafilho_polarity.positive, width, bottom=mendoncafilho_polarity.negative, color='g')\n",
    "p2 = plt.bar(mendoncafilho_polarity.date,mendoncafilho_polarity.negative, width, color='r')\n",
    "p3 = plt.bar(ibope.index,ibope['mendoncafilho'], width, color='black')\n",
    "\n",
    "plt.title('Tweets Polarity - Mendonça Filho',fontsize=15)\n",
    "plt.xlabel('Period',fontsize=12)\n",
    "plt.ylabel('Sentiment',fontsize=12)\n",
    "plt.legend((p1[0], p2[0],p3[3]), ('Positive', 'Negative','IBOPE'),fontsize=10)"
   ]
  },
  {
   "cell_type": "markdown",
   "metadata": {},
   "source": [
    "# TF-IDI"
   ]
  },
  {
   "cell_type": "code",
   "execution_count": 120,
   "metadata": {},
   "outputs": [],
   "source": [
    "def computeTFIDF(document):\n",
    "    vectorizer = TfidfVectorizer()\n",
    "    vectors = vectorizer.fit_transform(document)\n",
    "    feature_names = vectorizer.get_feature_names()\n",
    "    dense = vectors.todense()\n",
    "    return dense.tolist()\n",
    "\n",
    "#tweets_df['TFIDF'] = tweets_df['Text'].apply(lambda t: computeTFIDF(t))\n",
    "#tweets_df.head()"
   ]
  }
 ],
 "metadata": {
  "kernelspec": {
   "display_name": "Python 3",
   "language": "python",
   "name": "python3"
  },
  "language_info": {
   "codemirror_mode": {
    "name": "ipython",
    "version": 3
   },
   "file_extension": ".py",
   "mimetype": "text/x-python",
   "name": "python",
   "nbconvert_exporter": "python",
   "pygments_lexer": "ipython3",
   "version": "3.8.3"
  }
 },
 "nbformat": 4,
 "nbformat_minor": 4
}
