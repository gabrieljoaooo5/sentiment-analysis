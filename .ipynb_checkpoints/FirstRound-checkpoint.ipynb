{
 "cells": [
  {
   "cell_type": "markdown",
   "metadata": {},
   "source": [
    "# Imports"
   ]
  },
  {
   "cell_type": "code",
   "execution_count": 127,
   "metadata": {},
   "outputs": [],
   "source": [
    "from ibm_watson import NaturalLanguageUnderstandingV1\n",
    "from ibm_cloud_sdk_core.authenticators import IAMAuthenticator\n",
    "from ibm_watson.natural_language_understanding_v1 import Features, SentimentOptions\n",
    "import json\n",
    "import pandas as pd\n",
    "import datetime\n",
    "import pathlib\n",
    "import time\n",
    "import numpy as np\n",
    "import statistics\n",
    "import matplotlib.pyplot as plt"
   ]
  },
  {
   "cell_type": "markdown",
   "metadata": {},
   "source": [
    "# Credentials and Authorization"
   ]
  },
  {
   "cell_type": "code",
   "execution_count": 123,
   "metadata": {},
   "outputs": [
    {
     "data": {
      "text/html": [
       "<div>\n",
       "<style scoped>\n",
       "    .dataframe tbody tr th:only-of-type {\n",
       "        vertical-align: middle;\n",
       "    }\n",
       "\n",
       "    .dataframe tbody tr th {\n",
       "        vertical-align: top;\n",
       "    }\n",
       "\n",
       "    .dataframe thead th {\n",
       "        text-align: right;\n",
       "    }\n",
       "</style>\n",
       "<table border=\"1\" class=\"dataframe\">\n",
       "  <thead>\n",
       "    <tr style=\"text-align: right;\">\n",
       "      <th></th>\n",
       "      <th>Username</th>\n",
       "      <th>Created_at</th>\n",
       "      <th>Text</th>\n",
       "    </tr>\n",
       "  </thead>\n",
       "  <tbody>\n",
       "    <tr>\n",
       "      <th>0</th>\n",
       "      <td>DelPatricia19</td>\n",
       "      <td>2020-11-13 20:55:28</td>\n",
       "      <td>hora decisao vamos unir fazer mudanca recife p...</td>\n",
       "    </tr>\n",
       "    <tr>\n",
       "      <th>1</th>\n",
       "      <td>DelPatricia19</td>\n",
       "      <td>2020-11-13 20:38:56</td>\n",
       "      <td>agradecemos apoio vamos juntos mudar recife</td>\n",
       "    </tr>\n",
       "    <tr>\n",
       "      <th>2</th>\n",
       "      <td>DelPatricia19</td>\n",
       "      <td>2020-11-13 20:37:57</td>\n",
       "      <td>vamos juntos fazer recife melhor</td>\n",
       "    </tr>\n",
       "    <tr>\n",
       "      <th>3</th>\n",
       "      <td>DelPatricia19</td>\n",
       "      <td>2020-11-13 20:37:38</td>\n",
       "      <td>vamos juntos</td>\n",
       "    </tr>\n",
       "    <tr>\n",
       "      <th>4</th>\n",
       "      <td>DelPatricia19</td>\n",
       "      <td>2020-11-13 20:00:20</td>\n",
       "      <td>mudanca chegou chama delegada patricia domingo...</td>\n",
       "    </tr>\n",
       "  </tbody>\n",
       "</table>\n",
       "</div>"
      ],
      "text/plain": [
       "        Username           Created_at  \\\n",
       "0  DelPatricia19  2020-11-13 20:55:28   \n",
       "1  DelPatricia19  2020-11-13 20:38:56   \n",
       "2  DelPatricia19  2020-11-13 20:37:57   \n",
       "3  DelPatricia19  2020-11-13 20:37:38   \n",
       "4  DelPatricia19  2020-11-13 20:00:20   \n",
       "\n",
       "                                                Text  \n",
       "0  hora decisao vamos unir fazer mudanca recife p...  \n",
       "1        agradecemos apoio vamos juntos mudar recife  \n",
       "2                   vamos juntos fazer recife melhor  \n",
       "3                                       vamos juntos  \n",
       "4  mudanca chegou chama delegada patricia domingo...  "
      ]
     },
     "execution_count": 123,
     "metadata": {},
     "output_type": "execute_result"
    }
   ],
   "source": [
    "with open(\"credentials.json\", 'r') as jsonfile:\n",
    "    credentials = json.load(jsonfile)['ibm-watson']\n",
    "\n",
    "authenticator = IAMAuthenticator(credentials['api-key'])\n",
    "natural_language_understanding = NaturalLanguageUnderstandingV1(\n",
    "    version=credentials['version'],\n",
    "    authenticator=authenticator\n",
    ")\n",
    "natural_language_understanding.set_service_url(credentials['url'])\n",
    "\n",
    "tweets_df = pd.read_csv(str(pathlib.Path().absolute()) + '\\\\datasets\\\\firstRound.csv')\n",
    "tweets_df.head()"
   ]
  },
  {
   "cell_type": "markdown",
   "metadata": {},
   "source": [
    "# Sentiment Analysis"
   ]
  },
  {
   "cell_type": "code",
   "execution_count": 124,
   "metadata": {},
   "outputs": [],
   "source": [
    "def analyseSentiment(text):\n",
    "    response = natural_language_understanding.analyze(\n",
    "    text=text,\n",
    "    language = 'pt',\n",
    "    features=Features(sentiment=SentimentOptions(document=True))).get_result()\n",
    "    return (response['sentiment']['document']['label'],response['sentiment']['document']['score'])\n"
   ]
  },
  {
   "cell_type": "code",
   "execution_count": 125,
   "metadata": {},
   "outputs": [
    {
     "data": {
      "text/html": [
       "<div>\n",
       "<style scoped>\n",
       "    .dataframe tbody tr th:only-of-type {\n",
       "        vertical-align: middle;\n",
       "    }\n",
       "\n",
       "    .dataframe tbody tr th {\n",
       "        vertical-align: top;\n",
       "    }\n",
       "\n",
       "    .dataframe thead th {\n",
       "        text-align: right;\n",
       "    }\n",
       "</style>\n",
       "<table border=\"1\" class=\"dataframe\">\n",
       "  <thead>\n",
       "    <tr style=\"text-align: right;\">\n",
       "      <th></th>\n",
       "      <th>Username</th>\n",
       "      <th>Created_at</th>\n",
       "      <th>Text</th>\n",
       "      <th>Label</th>\n",
       "      <th>Score</th>\n",
       "    </tr>\n",
       "  </thead>\n",
       "  <tbody>\n",
       "    <tr>\n",
       "      <th>0</th>\n",
       "      <td>DelPatricia19</td>\n",
       "      <td>2020-11-13 20:55:28</td>\n",
       "      <td>hora decisao vamos unir fazer mudanca recife p...</td>\n",
       "      <td>neutral</td>\n",
       "      <td>0.000000</td>\n",
       "    </tr>\n",
       "    <tr>\n",
       "      <th>1</th>\n",
       "      <td>DelPatricia19</td>\n",
       "      <td>2020-11-13 20:38:56</td>\n",
       "      <td>agradecemos apoio vamos juntos mudar recife</td>\n",
       "      <td>positive</td>\n",
       "      <td>0.884153</td>\n",
       "    </tr>\n",
       "    <tr>\n",
       "      <th>2</th>\n",
       "      <td>DelPatricia19</td>\n",
       "      <td>2020-11-13 20:37:57</td>\n",
       "      <td>vamos juntos fazer recife melhor</td>\n",
       "      <td>positive</td>\n",
       "      <td>0.927721</td>\n",
       "    </tr>\n",
       "    <tr>\n",
       "      <th>3</th>\n",
       "      <td>DelPatricia19</td>\n",
       "      <td>2020-11-13 20:37:38</td>\n",
       "      <td>vamos juntos</td>\n",
       "      <td>positive</td>\n",
       "      <td>0.905184</td>\n",
       "    </tr>\n",
       "    <tr>\n",
       "      <th>4</th>\n",
       "      <td>DelPatricia19</td>\n",
       "      <td>2020-11-13 20:00:20</td>\n",
       "      <td>mudanca chegou chama delegada patricia domingo...</td>\n",
       "      <td>neutral</td>\n",
       "      <td>0.000000</td>\n",
       "    </tr>\n",
       "  </tbody>\n",
       "</table>\n",
       "</div>"
      ],
      "text/plain": [
       "        Username           Created_at  \\\n",
       "0  DelPatricia19  2020-11-13 20:55:28   \n",
       "1  DelPatricia19  2020-11-13 20:38:56   \n",
       "2  DelPatricia19  2020-11-13 20:37:57   \n",
       "3  DelPatricia19  2020-11-13 20:37:38   \n",
       "4  DelPatricia19  2020-11-13 20:00:20   \n",
       "\n",
       "                                                Text     Label     Score  \n",
       "0  hora decisao vamos unir fazer mudanca recife p...   neutral  0.000000  \n",
       "1        agradecemos apoio vamos juntos mudar recife  positive  0.884153  \n",
       "2                   vamos juntos fazer recife melhor  positive  0.927721  \n",
       "3                                       vamos juntos  positive  0.905184  \n",
       "4  mudanca chegou chama delegada patricia domingo...   neutral  0.000000  "
      ]
     },
     "execution_count": 125,
     "metadata": {},
     "output_type": "execute_result"
    }
   ],
   "source": [
    "label = []\n",
    "score = []\n",
    "for t in tweets_df.Text:\n",
    "    result = analyse(t)\n",
    "    label.append(result[0])\n",
    "    score.append(result[1])\n",
    "    \n",
    "tweets_df['Label'] = label\n",
    "tweets_df['Score'] = score\n",
    "\n",
    "tweets_df.head()"
   ]
  },
  {
   "cell_type": "markdown",
   "metadata": {},
   "source": [
    "# Generate CSV - First Round with Sentiment Analysis"
   ]
  },
  {
   "cell_type": "code",
   "execution_count": 130,
   "metadata": {},
   "outputs": [],
   "source": [
    "tweets_df['Created_at'] = tweets_df['Created_at'].apply(lambda d: datetime.datetime.strptime(d, '%Y-%m-%d %H:%M:%S'))\n",
    "tweets_df.to_csv(str(pathlib.Path().absolute()) + '\\\\datasets\\\\firstRoundWithSA.csv', index=False)"
   ]
  },
  {
   "cell_type": "markdown",
   "metadata": {},
   "source": [
    "# Delegada Patricia tweets"
   ]
  },
  {
   "cell_type": "code",
   "execution_count": 132,
   "metadata": {},
   "outputs": [
    {
     "name": "stderr",
     "output_type": "stream",
     "text": [
      "<ipython-input-132-a82a888e01b0>:2: SettingWithCopyWarning: \n",
      "A value is trying to be set on a copy of a slice from a DataFrame.\n",
      "Try using .loc[row_indexer,col_indexer] = value instead\n",
      "\n",
      "See the caveats in the documentation: https://pandas.pydata.org/pandas-docs/stable/user_guide/indexing.html#returning-a-view-versus-a-copy\n",
      "  delPatricia_tweets['Created_at'] = delPatricia_tweets.loc[:, 'Created_at'].apply(lambda d: d.date())\n"
     ]
    }
   ],
   "source": [
    "delPatricia_tweets = tweets_df[tweets_df['Username'] == 'DelPatricia19']\n",
    "delPatricia_tweets['Created_at'] = delPatricia_tweets.loc[:, 'Created_at'].apply(lambda d: d.date())"
   ]
  },
  {
   "cell_type": "code",
   "execution_count": 112,
   "metadata": {},
   "outputs": [
    {
     "data": {
      "text/html": [
       "<div>\n",
       "<style scoped>\n",
       "    .dataframe tbody tr th:only-of-type {\n",
       "        vertical-align: middle;\n",
       "    }\n",
       "\n",
       "    .dataframe tbody tr th {\n",
       "        vertical-align: top;\n",
       "    }\n",
       "\n",
       "    .dataframe thead th {\n",
       "        text-align: right;\n",
       "    }\n",
       "</style>\n",
       "<table border=\"1\" class=\"dataframe\">\n",
       "  <thead>\n",
       "    <tr style=\"text-align: right;\">\n",
       "      <th></th>\n",
       "      <th>score</th>\n",
       "      <th>positive</th>\n",
       "      <th>negative</th>\n",
       "    </tr>\n",
       "    <tr>\n",
       "      <th>Created_at</th>\n",
       "      <th></th>\n",
       "      <th></th>\n",
       "      <th></th>\n",
       "    </tr>\n",
       "  </thead>\n",
       "  <tbody>\n",
       "    <tr>\n",
       "      <th>2020-09-27</th>\n",
       "      <td>[0.0, 0.0, 0.0, 0.709068, 0.923776, -0.857582,...</td>\n",
       "      <td>0.833942</td>\n",
       "      <td>-0.665184</td>\n",
       "    </tr>\n",
       "    <tr>\n",
       "      <th>2020-09-28</th>\n",
       "      <td>[0.0, 0.0, 0.598922, 0.89928, -0.400352, 0.0]</td>\n",
       "      <td>0.749101</td>\n",
       "      <td>-0.400352</td>\n",
       "    </tr>\n",
       "    <tr>\n",
       "      <th>2020-09-29</th>\n",
       "      <td>[0.866092, 0.978175, 0.0, 0.935493, 0.95688, 0...</td>\n",
       "      <td>0.893963</td>\n",
       "      <td>-0.743082</td>\n",
       "    </tr>\n",
       "    <tr>\n",
       "      <th>2020-09-30</th>\n",
       "      <td>[0.0, -0.559151, 0.0, 0.905184, 0.93734, -0.86...</td>\n",
       "      <td>0.872786</td>\n",
       "      <td>-0.777542</td>\n",
       "    </tr>\n",
       "    <tr>\n",
       "      <th>2020-10-01</th>\n",
       "      <td>[0.0, 0.772802, 0.34535, 0.0, 0.0, 0.0, 0.0, 0...</td>\n",
       "      <td>0.632191</td>\n",
       "      <td>-0.529352</td>\n",
       "    </tr>\n",
       "  </tbody>\n",
       "</table>\n",
       "</div>"
      ],
      "text/plain": [
       "                                                        score  positive  \\\n",
       "Created_at                                                                \n",
       "2020-09-27  [0.0, 0.0, 0.0, 0.709068, 0.923776, -0.857582,...  0.833942   \n",
       "2020-09-28      [0.0, 0.0, 0.598922, 0.89928, -0.400352, 0.0]  0.749101   \n",
       "2020-09-29  [0.866092, 0.978175, 0.0, 0.935493, 0.95688, 0...  0.893963   \n",
       "2020-09-30  [0.0, -0.559151, 0.0, 0.905184, 0.93734, -0.86...  0.872786   \n",
       "2020-10-01  [0.0, 0.772802, 0.34535, 0.0, 0.0, 0.0, 0.0, 0...  0.632191   \n",
       "\n",
       "            negative  \n",
       "Created_at            \n",
       "2020-09-27 -0.665184  \n",
       "2020-09-28 -0.400352  \n",
       "2020-09-29 -0.743082  \n",
       "2020-09-30 -0.777542  \n",
       "2020-10-01 -0.529352  "
      ]
     },
     "execution_count": 112,
     "metadata": {},
     "output_type": "execute_result"
    }
   ],
   "source": [
    "delPatricia_tweets = tweets_df[tweets_df['Username'] == 'DelPatricia19']\n",
    "\n",
    "\n",
    "delPatricia_tweets['Created_at'] = delPatricia_tweets['Created_at'].apply(lambda d: d.date())\n",
    "\n",
    "delPatricia_tweets = delPatricia_tweets.groupby(by=['Created_at'])['score'].apply(list).to_frame()\n",
    "delPatricia_tweets['positive'] = delPatricia_tweets['Score'].apply(lambda s: [score for score in s if score > 0])\n",
    "delPatricia_tweets['negative'] = delPatricia_tweets['Score'].apply(lambda s: [score for score in s if score < 0])\n",
    "\n",
    "groupbyDate['positive'] = groupbyDate['positive'].apply(lambda s: 0 if s == [] else statistics.mean(s))\n",
    "groupbyDate['negative'] = groupbyDate['negative'].apply(lambda s: 0 if s == [] else statistics.mean(s))\n",
    "groupbyDate.head()"
   ]
  },
  {
   "cell_type": "code",
   "execution_count": 113,
   "metadata": {},
   "outputs": [
    {
     "data": {
      "text/plain": [
       "<matplotlib.legend.Legend at 0x28957d05dc0>"
      ]
     },
     "execution_count": 113,
     "metadata": {},
     "output_type": "execute_result"
    },
    {
     "data": {
      "image/png": "[encoded data removed]",
      "text/plain": [
       "<Figure size 720x720 with 1 Axes>"
      ]
     },
     "metadata": {
      "needs_background": "light"
     },
     "output_type": "display_data"
    }
   ],
   "source": [
    "fig, ax = plt.subplots(figsize=(10,10))\n",
    "width = 0.50 \n",
    "\n",
    "p1 = plt.bar(groupbyDate.index,groupbyDate.positive, width, bottom=groupbyDate.negative, color='g')\n",
    "p2 = plt.bar(groupbyDate.index,groupbyDate.negative, width, color='r')\n",
    "#p3 = plt.bar(ibope.index,ibope['DelPatricia19'], width, color='black')\n",
    "\n",
    "plt.title('Tweets Polarity - Delegada Patrícia',fontsize=15)\n",
    "plt.xlabel('Period',fontsize=12)\n",
    "plt.ylabel('Sentiment',fontsize=12)\n",
    "plt.legend((p1[0], p2[0]), ('Positive', 'Negative'),fontsize=10)"
   ]
  },
  {
   "cell_type": "code",
   "execution_count": 4,
   "metadata": {},
   "outputs": [
    {
     "name": "stderr",
     "output_type": "stream",
     "text": [
      "ERROR:root:invalid request: content is empty\n",
      "Traceback (most recent call last):\n",
      "  File \"C:\\Users\\joaog\\anaconda3\\lib\\site-packages\\ibm_cloud_sdk_core\\base_service.py\", line 228, in send\n",
      "    raise ApiException(\n",
      "ibm_cloud_sdk_core.api_exception.ApiException: Error: invalid request: content is empty, Code: 400 , X-global-transaction-id: 229be224-ad9b-4636-831d-445f4f7cf35f\n"
     ]
    },
    {
     "ename": "ApiException",
     "evalue": "Error: invalid request: content is empty, Code: 400 , X-global-transaction-id: 229be224-ad9b-4636-831d-445f4f7cf35f",
     "output_type": "error",
     "traceback": [
      "\u001b[1;31m---------------------------------------------------------------------------\u001b[0m",
      "\u001b[1;31mApiException\u001b[0m                              Traceback (most recent call last)",
      "\u001b[1;32m<ipython-input-4-13cc60b7cebf>\u001b[0m in \u001b[0;36m<module>\u001b[1;34m\u001b[0m\n\u001b[0;32m      4\u001b[0m \u001b[1;32mfor\u001b[0m \u001b[0mx\u001b[0m \u001b[1;32min\u001b[0m \u001b[0mtweets_df\u001b[0m\u001b[1;33m.\u001b[0m\u001b[0mText\u001b[0m\u001b[1;33m:\u001b[0m\u001b[1;33m\u001b[0m\u001b[1;33m\u001b[0m\u001b[0m\n\u001b[0;32m      5\u001b[0m     \u001b[1;31m#result = analyse(x)\u001b[0m\u001b[1;33m\u001b[0m\u001b[1;33m\u001b[0m\u001b[1;33m\u001b[0m\u001b[0m\n\u001b[1;32m----> 6\u001b[1;33m     \u001b[0mreturns\u001b[0m\u001b[1;33m.\u001b[0m\u001b[0mappend\u001b[0m\u001b[1;33m(\u001b[0m\u001b[0manalyse\u001b[0m\u001b[1;33m(\u001b[0m\u001b[0mx\u001b[0m\u001b[1;33m)\u001b[0m\u001b[1;33m)\u001b[0m\u001b[1;33m\u001b[0m\u001b[1;33m\u001b[0m\u001b[0m\n\u001b[0m\u001b[0;32m      7\u001b[0m     \u001b[1;31m#label.append(result[1])\u001b[0m\u001b[1;33m\u001b[0m\u001b[1;33m\u001b[0m\u001b[1;33m\u001b[0m\u001b[0m\n\u001b[0;32m      8\u001b[0m     \u001b[1;31m#score.append(result[0])\u001b[0m\u001b[1;33m\u001b[0m\u001b[1;33m\u001b[0m\u001b[1;33m\u001b[0m\u001b[0m\n",
      "\u001b[1;32m<ipython-input-3-151a6e97c021>\u001b[0m in \u001b[0;36manalyse\u001b[1;34m(text)\u001b[0m\n\u001b[0;32m      1\u001b[0m \u001b[1;32mdef\u001b[0m \u001b[0manalyse\u001b[0m\u001b[1;33m(\u001b[0m\u001b[0mtext\u001b[0m\u001b[1;33m)\u001b[0m\u001b[1;33m:\u001b[0m\u001b[1;33m\u001b[0m\u001b[1;33m\u001b[0m\u001b[0m\n\u001b[1;32m----> 2\u001b[1;33m     response = natural_language_understanding.analyze(\n\u001b[0m\u001b[0;32m      3\u001b[0m     \u001b[0mtext\u001b[0m\u001b[1;33m=\u001b[0m\u001b[0mtext\u001b[0m\u001b[1;33m,\u001b[0m\u001b[1;33m\u001b[0m\u001b[1;33m\u001b[0m\u001b[0m\n\u001b[0;32m      4\u001b[0m     \u001b[0mlanguage\u001b[0m \u001b[1;33m=\u001b[0m \u001b[1;34m'pt'\u001b[0m\u001b[1;33m,\u001b[0m\u001b[1;33m\u001b[0m\u001b[1;33m\u001b[0m\u001b[0m\n\u001b[0;32m      5\u001b[0m     features=Features(keywords=KeywordsOptions(sentiment=True, limit=2))).get_result()\n",
      "\u001b[1;32m~\\anaconda3\\lib\\site-packages\\ibm_watson\\natural_language_understanding_v1.py\u001b[0m in \u001b[0;36manalyze\u001b[1;34m(self, features, text, html, url, clean, xpath, fallback_to_raw, return_analyzed_text, language, limit_text_characters, **kwargs)\u001b[0m\n\u001b[0;32m    181\u001b[0m                                        data=data)\n\u001b[0;32m    182\u001b[0m \u001b[1;33m\u001b[0m\u001b[0m\n\u001b[1;32m--> 183\u001b[1;33m         \u001b[0mresponse\u001b[0m \u001b[1;33m=\u001b[0m \u001b[0mself\u001b[0m\u001b[1;33m.\u001b[0m\u001b[0msend\u001b[0m\u001b[1;33m(\u001b[0m\u001b[0mrequest\u001b[0m\u001b[1;33m)\u001b[0m\u001b[1;33m\u001b[0m\u001b[1;33m\u001b[0m\u001b[0m\n\u001b[0m\u001b[0;32m    184\u001b[0m         \u001b[1;32mreturn\u001b[0m \u001b[0mresponse\u001b[0m\u001b[1;33m\u001b[0m\u001b[1;33m\u001b[0m\u001b[0m\n\u001b[0;32m    185\u001b[0m \u001b[1;33m\u001b[0m\u001b[0m\n",
      "\u001b[1;32m~\\anaconda3\\lib\\site-packages\\ibm_cloud_sdk_core\\base_service.py\u001b[0m in \u001b[0;36msend\u001b[1;34m(self, request, **kwargs)\u001b[0m\n\u001b[0;32m    226\u001b[0m                 \u001b[0merror_message\u001b[0m \u001b[1;33m=\u001b[0m \u001b[1;34m'Unauthorized: Access is denied due to '\u001b[0m\u001b[0;31m \u001b[0m\u001b[0;31m\\\u001b[0m\u001b[1;33m\u001b[0m\u001b[1;33m\u001b[0m\u001b[0m\n\u001b[0;32m    227\u001b[0m                                 \u001b[1;34m'invalid credentials'\u001b[0m\u001b[1;33m\u001b[0m\u001b[1;33m\u001b[0m\u001b[0m\n\u001b[1;32m--> 228\u001b[1;33m             raise ApiException(\n\u001b[0m\u001b[0;32m    229\u001b[0m                 response.status_code, error_message, http_response=response)\n\u001b[0;32m    230\u001b[0m         \u001b[1;32mexcept\u001b[0m \u001b[0mrequests\u001b[0m\u001b[1;33m.\u001b[0m\u001b[0mexceptions\u001b[0m\u001b[1;33m.\u001b[0m\u001b[0mSSLError\u001b[0m\u001b[1;33m:\u001b[0m\u001b[1;33m\u001b[0m\u001b[1;33m\u001b[0m\u001b[0m\n",
      "\u001b[1;31mApiException\u001b[0m: Error: invalid request: content is empty, Code: 400 , X-global-transaction-id: 229be224-ad9b-4636-831d-445f4f7cf35f"
     ]
    }
   ],
   "source": [
    "score = []\n",
    "label = []\n",
    "returns = []\n",
    "for x in tweets_df.Text:\n",
    "    #result = analyse(x)\n",
    "    returns.append(analyse(x))\n",
    "    #label.append(result[1])\n",
    "    #score.append(result[0])"
   ]
  },
  {
   "cell_type": "code",
   "execution_count": 25,
   "metadata": {},
   "outputs": [],
   "source": [
    "count = 1621\n",
    "maxCount = 1807\n",
    "while count <= maxCount:\n",
    "    #result = analyse(x)\n",
    "    returns.append(analyse(tweets_df.iloc[count].Text))\n",
    "    count+=1\n",
    "    #label.append(result[1])\n",
    "    #score.append(result[0])"
   ]
  },
  {
   "cell_type": "code",
   "execution_count": 39,
   "metadata": {},
   "outputs": [
    {
     "data": {
      "text/plain": [
       "{'usage': {'text_units': 1, 'text_characters': 105, 'features': 1},\n",
       " 'language': 'pt',\n",
       " 'keywords': [{'text': 'hora da decisao',\n",
       "   'sentiment': {'score': 0, 'label': 'neutral'},\n",
       "   'relevance': 0.995107,\n",
       "   'count': 1},\n",
       "  {'text': 'apoio do presidente',\n",
       "   'sentiment': {'score': 0, 'label': 'neutral'},\n",
       "   'relevance': 0.12141,\n",
       "   'count': 1}]}"
      ]
     },
     "execution_count": 39,
     "metadata": {},
     "output_type": "execute_result"
    }
   ],
   "source": [
    "tweets_df.iloc[0].Text\n",
    "returns[0]\n",
    "    "
   ]
  }
 ],
 "metadata": {
  "kernelspec": {
   "display_name": "Python 3",
   "language": "python",
   "name": "python3"
  },
  "language_info": {
   "codemirror_mode": {
    "name": "ipython",
    "version": 3
   },
   "file_extension": ".py",
   "mimetype": "text/x-python",
   "name": "python",
   "nbconvert_exporter": "python",
   "pygments_lexer": "ipython3",
   "version": "3.8.3"
  }
 },
 "nbformat": 4,
 "nbformat_minor": 4
}
