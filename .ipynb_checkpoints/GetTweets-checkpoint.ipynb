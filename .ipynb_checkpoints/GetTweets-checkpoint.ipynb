{
 "cells": [
  {
   "cell_type": "markdown",
   "metadata": {},
   "source": [
    "# Imports"
   ]
  },
  {
   "cell_type": "code",
   "execution_count": 38,
   "metadata": {},
   "outputs": [],
   "source": [
    "import tweepy\n",
    "import pandas as pd\n",
    "import datetime\n",
    "import time\n",
    "import json\n",
    "import pathlib"
   ]
  },
  {
   "cell_type": "markdown",
   "metadata": {},
   "source": [
    "# Credentials and Authorization"
   ]
  },
  {
   "cell_type": "code",
   "execution_count": 9,
   "metadata": {},
   "outputs": [],
   "source": [
    "with open(\"credentials.json\", 'r') as jsonfile:\n",
    "    credentials = json.load(jsonfile)['twitter']\n",
    "\n",
    "consumer_key = credentials['consumer_key']\n",
    "consumer_secret = credentials['consumer_secret']\n",
    "access_token = credentials['access_token']\n",
    "access_token_secret = credentials['access_token_secret']\n",
    "auth = tweepy.OAuthHandler(consumer_key, consumer_secret)\n",
    "auth.set_access_token(access_token, access_token_secret)\n",
    "api = tweepy.API(auth,wait_on_rate_limit=True)"
   ]
  },
  {
   "cell_type": "markdown",
   "metadata": {},
   "source": [
    "# Get  Tweets per candidate since setember 27th to november 28th"
   ]
  },
  {
   "cell_type": "code",
   "execution_count": 10,
   "metadata": {},
   "outputs": [],
   "source": [
    "candidates_username = ['DelPatricia19', 'JoaoCampos', 'MariliaArraes', 'mendoncafilho']\n",
    "count = 700\n",
    "since_date = datetime.datetime(2020, 9, 27, 0, 0, 0)\n",
    "until_date = datetime.datetime(2020,11,28 ,23, 59, 59)\n",
    "tweets_list = []\n",
    "\n",
    "for username in candidates_username:\n",
    "    try:\n",
    "        # Creation of query method using parameters\n",
    "        tweets = list(tweepy.Cursor(api.user_timeline,id=username).items(count))\n",
    "        \n",
    "        #Convert to a list\n",
    "        tweets = [[username, tweet.created_at, str(tweet.text)] for tweet in tweets]\n",
    "        \n",
    "        #Check if the since_date are included\n",
    "        last_tweet = tweets[count-1]\n",
    "        if (last_tweet[1] < since_date):\n",
    "            # Pulling information from tweets iterable object\n",
    "            tweets_list += tweets\n",
    "        else:\n",
    "            print(username + \": Count is too short\")\n",
    "            \n",
    "    except BaseException as e:\n",
    "        print('failed on_status,',str(e))\n",
    "        time.sleep(3)\n",
    "\n",
    "# Creation of dataframe from tweets list\n",
    "tweets_df = pd.DataFrame(tweets_list, columns=['Username', 'Created_at', 'Text'])\n",
    "\n",
    "#Filter By Date\n",
    "tweets_df = tweets_df[tweets_df.Created_at >= since_date]\n",
    "tweets_df = tweets_df[tweets_df.Created_at <= until_date]"
   ]
  },
  {
   "cell_type": "markdown",
   "metadata": {},
   "source": [
    "# Generate CSV - All tweets"
   ]
  },
  {
   "cell_type": "code",
   "execution_count": 47,
   "metadata": {},
   "outputs": [],
   "source": [
    "tweets_df.to_csv(str(pathlib.Path().absolute()) + '\\\\datasets\\\\allTweets.csv', index=False)"
   ]
  }
 ],
 "metadata": {
  "kernelspec": {
   "display_name": "Python 3",
   "language": "python",
   "name": "python3"
  },
  "language_info": {
   "codemirror_mode": {
    "name": "ipython",
    "version": 3
   },
   "file_extension": ".py",
   "mimetype": "text/x-python",
   "name": "python",
   "nbconvert_exporter": "python",
   "pygments_lexer": "ipython3",
   "version": "3.8.3"
  }
 },
 "nbformat": 4,
 "nbformat_minor": 4
}
